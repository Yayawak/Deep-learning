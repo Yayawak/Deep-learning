{
 "cells": [
  {
   "cell_type": "markdown",
   "id": "e2e430de-6bdc-4a41-9370-2c5ab42c46e4",
   "metadata": {},
   "source": [
    "## Layer of basic Operation\n",
    "#### $\n",
    "\\begin{align}\n",
    "\\frac{\\partial(x+y)}{\\partial x} &=& 1 \\\\\n",
    "\\frac{\\partial(x+y)}{\\partial y} &=& 1 \\\\\n",
    "\\frac{\\partial(x-y)}{\\partial x} &=& 1 \\\\\n",
    "\\frac{\\partial(x-y)}{\\partial y} &=& -1 \\\\\n",
    "\\frac{\\partial(xy)}{\\partial x} &=& y \\\\\n",
    "\\frac{\\partial(xy)}{\\partial y} &=& x \\\\\n",
    "\\frac{\\partial(x/y)}{\\partial x} &=& 1/y \\\\\n",
    "\\frac{\\partial(x/y)}{\\partial y} &=& -x/y^2\n",
    "\\end{align}\n",
    "$"
   ]
  },
  {
   "cell_type": "markdown",
   "id": "9d63d605-70f5-4589-9533-5741b559e4c5",
   "metadata": {},
   "source": [
    "# Backward method use to find Derivative"
   ]
  },
  {
   "cell_type": "code",
   "execution_count": 8,
   "id": "b828eda6-2e4e-4dcf-9d30-2d2ca23ea259",
   "metadata": {},
   "outputs": [],
   "source": [
    "class Plus:\n",
    "    def forward(self, x, y):\n",
    "        return x + y\n",
    "    def backward(self, g):\n",
    "        return g, g\n",
    "class Minus:\n",
    "    def forward(self, x, y):\n",
    "        return x - y\n",
    "    def backward(self, g):\n",
    "        return g, -g \n",
    "class Multiply:\n",
    "    def forward(self, x, y):\n",
    "        self.x = x\n",
    "        self.y = y\n",
    "        return x * y\n",
    "    def backward(self, g):\n",
    "        return g * self.y, g * self.x\n",
    "\n",
    "class Divind:\n",
    "    def forward(self, x, y):\n",
    "        self.x = x\n",
    "        self.y = y\n",
    "        return x / y\n",
    "    def backward(self, g):\n",
    "        return (g/self.y),  (- g * self.y / self.y ** 2)\n"
   ]
  },
  {
   "cell_type": "markdown",
   "id": "b6d447b2-d9f7-4c4e-b36a-d414e355476b",
   "metadata": {},
   "source": [
    "# Example Equation\n",
    "# $$\n",
    "\\begin{align}\n",
    "x = \\frac{cd}{a-b}\n",
    "\\end{align}\n",
    "$$\n",
    "![EQ](https://phyblas.hinaboshi.com/rup/nayuki/umaki/i01.png)\n",
    "##### given : a=1,b=2,c=3,d=4 "
   ]
  },
  {
   "cell_type": "code",
   "execution_count": 10,
   "id": "b4320f6a-1cd9-41b4-935d-0274ac1833b5",
   "metadata": {},
   "outputs": [
    {
     "name": "stdout",
     "output_type": "stream",
     "text": [
      "e = -1, f = 12, x = -12\n"
     ]
    }
   ],
   "source": [
    "minus = Minus()\n",
    "multiply = Multiply()\n",
    "divind = Divind()\n",
    "\n",
    "a, b, c, d = 1, 2, 3, 4\n",
    "e = minus.forward(a, b)\n",
    "f = multiply.forward(c, d)\n",
    "x = divind.forward(f, e)\n",
    "print('e = %d, f = %d, x = %d' % (e, f, x))"
   ]
  },
  {
   "cell_type": "code",
   "execution_count": 12,
   "id": "8f7a189d-d519-4a15-89f7-7cce7add36c8",
   "metadata": {},
   "outputs": [
    {
     "name": "stdout",
     "output_type": "stream",
     "text": [
      "ga=1, gb=-1, gc=-4 \n",
      "gd=-3, ge=1, gf=-1\n"
     ]
    }
   ],
   "source": [
    "gf, ge = divind.backward(1)\n",
    "gc, gd = multiply.backward(gf)\n",
    "ga, gb = minus.backward(ge)\n",
    "print('ga=%d, gb=%d, gc=%d \\ngd=%d, ge=%d, gf=%d' % (ga,gb,gc,gd,ge,gf))"
   ]
  },
  {
   "cell_type": "code",
   "execution_count": 14,
   "id": "3931cb6e-7a42-4ac6-ae89-9cac52dc744b",
   "metadata": {},
   "outputs": [
    {
     "data": {
      "text/plain": [
       "(-1.0, 1.0)"
      ]
     },
     "execution_count": 14,
     "metadata": {},
     "output_type": "execute_result"
    }
   ],
   "source": [
    "divind.backward(1)"
   ]
  },
  {
   "cell_type": "markdown",
   "id": "9a701c40-c2b2-4cdc-8d7b-1189ee612f70",
   "metadata": {},
   "source": [
    "## $g$ is derivative of that varaible\n",
    "# Derivative of higher operation"
   ]
  },
  {
   "cell_type": "code",
   "execution_count": 15,
   "id": "d7fb98e9-d0ad-4d12-9c0b-1b37c4778412",
   "metadata": {},
   "outputs": [],
   "source": [
    "import numpy as np\n",
    "class Exp:\n",
    "    def forward(self, x):\n",
    "        self.expx = np.exp(x)\n",
    "        return self.expx\n",
    "    def backward(self, g):\n",
    "        return g * self.expx\n",
    "class Ln:\n",
    "    def forward(self, x):\n",
    "        self.x = x\n",
    "        return np.log(x)\n",
    "    def backward(self, g):\n",
    "        return g / self.x\n"
   ]
  },
  {
   "cell_type": "markdown",
   "id": "cc5542a6-f974-4fd7-87cd-5262caae9243",
   "metadata": {},
   "source": [
    "# Layers of ***Activation Functions***"
   ]
  },
  {
   "cell_type": "code",
   "execution_count": 16,
   "id": "0b55a10c-67ce-43f8-8c11-9d00539c5221",
   "metadata": {},
   "outputs": [],
   "source": [
    "class Sigmoid:\n",
    "    def forward(self, x):\n",
    "        self.h = 1/(1+np.exp(-x))\n",
    "        return self.h\n",
    "    def backward(self, h):\n",
    "        return g * (1.0 - self.h) * self.h\n",
    "\n",
    "class ReLu:\n",
    "    def forward(self, x):\n",
    "        self.filter = x > 0\n",
    "        return np.where(self.filter, x, 0) # np.where(cond, if true, if false)\n",
    "    def backward(self, g):\n",
    "        return np.where(self.filter, g, 0)\n",
    "    "
   ]
  },
  {
   "cell_type": "markdown",
   "id": "607e4164-6de7-43ae-8578-4b8256b3a596",
   "metadata": {},
   "source": [
    "# Layer with ***Adjustable Parameters***\n",
    "#### Simple function with easy process"
   ]
  },
  {
   "cell_type": "code",
   "execution_count": 17,
   "id": "542064f6-7708-47e7-bbe8-d6ec6e147c88",
   "metadata": {},
   "outputs": [],
   "source": [
    "class MultiplyW_PlusB:\n",
    "    def __init__(self, w, b):\n",
    "        self.w = w\n",
    "        self.b = b\n",
    "        self.gw, self.gb = 0, 0\n",
    "    def forward(self, x):\n",
    "        self.x = x\n",
    "        return self.w * x + self.b\n",
    "    def backward(self, g):\n",
    "        self.gw += g * self.x\n",
    "        self.gb += g\n",
    "        return g * self.w\n",
    "    "
   ]
  },
  {
   "cell_type": "markdown",
   "id": "7f8c3657-760e-485a-b905-0906a1d887a0",
   "metadata": {},
   "source": [
    "# Using "
   ]
  },
  {
   "cell_type": "code",
   "execution_count": 30,
   "id": "677f92a5-af39-48b6-9e73-135f95ae26af",
   "metadata": {},
   "outputs": [
    {
     "name": "stdout",
     "output_type": "stream",
     "text": [
      "7\n"
     ]
    }
   ],
   "source": [
    "f1 = MultiplyW_PlusB(w=2, b=1)\n",
    "f2 = MultiplyW_PlusB(3, 4)\n",
    "x = 3\n",
    "y = f1.forward(x)\n",
    "print(y) # 7 = 2*3 + 1"
   ]
  },
  {
   "cell_type": "code",
   "execution_count": 31,
   "id": "f8a162eb-9a23-4d85-bc32-5fbe69f06572",
   "metadata": {},
   "outputs": [
    {
     "name": "stdout",
     "output_type": "stream",
     "text": [
      "13\n"
     ]
    }
   ],
   "source": [
    "z = f2.forward(x)\n",
    "print(z) # 13 = 3*3 + 4"
   ]
  },
  {
   "cell_type": "code",
   "execution_count": 32,
   "id": "f5dfad15-aed1-4363-95cb-3524c54d3c65",
   "metadata": {},
   "outputs": [
    {
     "name": "stdout",
     "output_type": "stream",
     "text": [
      "3\n"
     ]
    }
   ],
   "source": [
    "gy = f2.backward(1) \n",
    "print(gy) # 1 * 3 = g * self.w"
   ]
  },
  {
   "cell_type": "code",
   "execution_count": 33,
   "id": "59d13ad7-fc37-478a-b268-9374e027df32",
   "metadata": {},
   "outputs": [
    {
     "data": {
      "text/plain": [
       "6"
      ]
     },
     "execution_count": 33,
     "metadata": {},
     "output_type": "execute_result"
    }
   ],
   "source": [
    "gx = f1.backward(gy) \n",
    "gx # => g * self.w => gy * 2 => 3 * 2 => 6"
   ]
  },
  {
   "cell_type": "code",
   "execution_count": 35,
   "id": "c090093b-449b-4ccd-b312-92bd37ed18e4",
   "metadata": {},
   "outputs": [
    {
     "name": "stdout",
     "output_type": "stream",
     "text": [
      "9 3\n"
     ]
    }
   ],
   "source": [
    "print(f1.gw, f1.gb)"
   ]
  },
  {
   "cell_type": "markdown",
   "id": "a273d925-b3e3-45b8-9506-718baf236ca6",
   "metadata": {},
   "source": [
    "# Write in Matrix form\n",
    "### Layers with linear computation are called **Affine Layer**\n",
    "keras names \"Dense layer\", pytorch names \"Linear layer\""
   ]
  },
  {
   "cell_type": "code",
   "execution_count": 36,
   "id": "83f94db1-3983-4518-ac8f-fabb42494fd6",
   "metadata": {},
   "outputs": [],
   "source": [
    "class Affine:\n",
    "    def __init__(self, w, b):\n",
    "        self.w ,self.b = w, b\n",
    "        self.gw, self.gb = 0, 0\n",
    "    def forward(self, X):\n",
    "        self.X = X\n",
    "        return np.dot(X, self.w) + self.b\n",
    "    def backward(self, g):\n",
    "        self.gw += np.dot(self.X.T, g)\n",
    "        self.gb += g.sum(0)\n",
    "        return np.dot(g, self.w.T)"
   ]
  },
  {
   "cell_type": "markdown",
   "id": "fee197a8-3e7c-4f67-9430-b5c087944f0b",
   "metadata": {},
   "source": [
    "# Using"
   ]
  },
  {
   "cell_type": "code",
   "execution_count": 39,
   "id": "b037ed74-7376-4c7e-8519-d54e1cec9f63",
   "metadata": {},
   "outputs": [
    {
     "name": "stdout",
     "output_type": "stream",
     "text": [
      "[[7 1 7]\n",
      " [5 5 2]]\n"
     ]
    }
   ],
   "source": [
    "af = Affine(np.random.randint(0, 9, [3,4]),\n",
    "           np.random.randint(0,9 ,4))\n",
    "x = np.random.randint(0, 9, [2,3])\n",
    "print(x)"
   ]
  },
  {
   "cell_type": "code",
   "execution_count": 41,
   "id": "d7c07dfd-6b89-4b8d-a178-a6d3d9e3fdf3",
   "metadata": {},
   "outputs": [
    {
     "name": "stdout",
     "output_type": "stream",
     "text": [
      "[[4 4 7 8]\n",
      " [6 3 7 2]\n",
      " [5 4 2 3]]\n"
     ]
    }
   ],
   "source": [
    "print(af.w)"
   ]
  },
  {
   "cell_type": "code",
   "execution_count": 43,
   "id": "f63afda8-465a-40c8-8759-c2d2ed9c8f8f",
   "metadata": {},
   "outputs": [
    {
     "name": "stdout",
     "output_type": "stream",
     "text": [
      "[3 6 8 6]\n"
     ]
    }
   ],
   "source": [
    "print(af.b)"
   ]
  },
  {
   "cell_type": "code",
   "execution_count": 45,
   "id": "098396f0-ff62-47c2-92de-36a05925a5c4",
   "metadata": {},
   "outputs": [
    {
     "data": {
      "text/plain": [
       "array([[72, 65, 78, 85],\n",
       "       [63, 49, 82, 62]])"
      ]
     },
     "execution_count": 45,
     "metadata": {},
     "output_type": "execute_result"
    }
   ],
   "source": [
    "a = af.forward(x)\n",
    "a"
   ]
  },
  {
   "cell_type": "code",
   "execution_count": 47,
   "id": "08e70ef3-d917-46d4-855e-4850a088e95c",
   "metadata": {},
   "outputs": [
    {
     "data": {
      "text/plain": [
       "array([[23., 18., 14.],\n",
       "       [23., 18., 14.]])"
      ]
     },
     "execution_count": 47,
     "metadata": {},
     "output_type": "execute_result"
    }
   ],
   "source": [
    "gx = af.backward(np.ones([2,4]))\n",
    "gx"
   ]
  },
  {
   "cell_type": "code",
   "execution_count": 48,
   "id": "955067c2-dd33-4822-b328-cf0bbb9a5144",
   "metadata": {},
   "outputs": [
    {
     "data": {
      "text/plain": [
       "array([[24., 24., 24., 24.],\n",
       "       [12., 12., 12., 12.],\n",
       "       [18., 18., 18., 18.]])"
      ]
     },
     "execution_count": 48,
     "metadata": {},
     "output_type": "execute_result"
    }
   ],
   "source": [
    "af.gw"
   ]
  },
  {
   "cell_type": "code",
   "execution_count": 49,
   "id": "5c25b13a-c41b-43a2-b4be-0dd71201123e",
   "metadata": {},
   "outputs": [
    {
     "data": {
      "text/plain": [
       "array([4., 4., 4., 4.])"
      ]
     },
     "execution_count": 49,
     "metadata": {},
     "output_type": "execute_result"
    }
   ],
   "source": [
    "af.gb"
   ]
  }
 ],
 "metadata": {
  "kernelspec": {
   "display_name": "Python 3",
   "language": "python",
   "name": "python3"
  },
  "language_info": {
   "codemirror_mode": {
    "name": "ipython",
    "version": 3
   },
   "file_extension": ".py",
   "mimetype": "text/x-python",
   "name": "python",
   "nbconvert_exporter": "python",
   "pygments_lexer": "ipython3",
   "version": "3.9.7"
  }
 },
 "nbformat": 4,
 "nbformat_minor": 5
}
