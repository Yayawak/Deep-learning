{
 "cells": [
  {
   "cell_type": "markdown",
   "id": "1f71c836-8c7f-4442-bc2e-1496062ed51c",
   "metadata": {},
   "source": [
    "## Suppose we use 4 features\n",
    "## and want to classify to 5 groups\n",
    "![Perceptron](https://phyblas.hinaboshi.com/rup/nayuki/umaki/f01.png)"
   ]
  },
  {
   "cell_type": "markdown",
   "id": "78b0702f-cd48-48c5-959e-b7e55ebd9bdb",
   "metadata": {},
   "source": [
    "### $w$ is not just vector now it's matrix shape = (4x5)\n",
    "#### $\n",
    "\\begin{align}\n",
    "\\vec{a}_i &= \\mathbf{w}^T \\cdot \\vec{x}_i + \\vec{b} \\\\\n",
    "\\begin{bmatrix}\n",
    "a_{i,0} \\\\\\\\ a_{i,1} \\\\\\\\ \\vdots \\\\\\\\ a_{i,m_1-1}\n",
    "\\end{bmatrix} &=\n",
    "\\begin{bmatrix}\n",
    "w_{0,0} & w_{1,0} & \\cdots & w_{m_0-1,0} \\\\\\\\\n",
    "w_{0,1} & w_{1,1} & \\cdots & w_{m_0-1,1} \\\\\\\\\n",
    "\\vdots & \\vdots & \\ddots & \\vdots \\\\\\\\\n",
    "w_{0,m_1-1} & w_{1,m_1-1} & \\cdots & w_{m_0-1,m_1-1}\n",
    "\\end{bmatrix} \\cdot\n",
    "\\begin{bmatrix}\n",
    "x_{i,0} \\\\\\\\ x_{i,1} \\\\\\\\ \\vdots \\\\\\\\ x_{i,m_0-1}\n",
    "\\end{bmatrix} +\n",
    "\\begin{bmatrix}\n",
    "b_{0} \\\\\\\\ b_{1} \\\\\\\\ \\vdots \\\\\\\\ b_{m_1-1}\n",
    "\\end{bmatrix} \\\\\n",
    "&=\n",
    "\\begin{bmatrix}\n",
    "\\sum_{j=0}^{m_0-1}w_{j,0} x_{i,j} + b_0 \\\\\\\\\n",
    "\\sum_{j=0}^{m_0-1}w_{j,1} x_{i,j} + b_1 \\\\\\\\\n",
    "\\vdots \\\\\\\\\n",
    "\\sum_{j=0}^{m_0-1}w_{j,m_1-1} x_{i,j} + b_{m_1-1}\n",
    "\\end{bmatrix}\n",
    "\\end{align}\n",
    "$"
   ]
  },
  {
   "cell_type": "markdown",
   "id": "765d9d76-e104-45a9-b760-c852038b4729",
   "metadata": {},
   "source": [
    "# $$\n",
    "\\begin{align}\n",
    "\\pmb{a} = \\mathbf{x} \\cdot \\textbf{w} + \\vec{b}^T\n",
    "\\end{align}\n",
    "$$\n",
    "### $\n",
    "\\begin{align}\n",
    "\\pmb{a} =\n",
    "\\begin{bmatrix}\n",
    "a_{0,0} & a_{0,1} & \\cdots & a_{0,m_0-1} \\\\\\\\\n",
    "a_{1,0} & a_{1,1} & \\cdots & a_{1,m_1-1} \\\\\\\\\n",
    "\\vdots & \\vdots & \\ddots & \\vdots \\\\\\\\\n",
    "a_{n-1,0} & a_{n-1,1} & \\cdots & a_{n-1,m_1-1}\n",
    "\\end{bmatrix}\n",
    "\\end{align}\n",
    "$"
   ]
  },
  {
   "cell_type": "markdown",
   "id": "3c3377dd-3dc0-4458-8009-50b898155f65",
   "metadata": {},
   "source": [
    "### $$\n",
    "\\begin{align}\n",
    "\\mathbf{x} \\cdot \\textbf{w} + \\vec{b}^T &=\n",
    "\\mathbf{x} \\cdot \\textbf{w} +\n",
    "\\begin{bmatrix}\n",
    "b_0 & b_1 & \\cdots & b_{m_1-1}\n",
    "\\end{bmatrix} \\\\ &=\n",
    "\\mathbf{x} \\cdot \\textbf{w} +\n",
    "\\begin{bmatrix}\n",
    "b_{0} & b_{1} & \\cdots & b_{m_1-1} \\\\\\\\\n",
    "b_{0} & b_{1} & \\cdots & b_{m_1-1} \\\\\\\\\n",
    "\\vdots & \\vdots & \\ddots & \\vdots \\\\\\\\\n",
    "b_{0} & b_{1} & \\cdots & b_{m_1-1}\n",
    "\\end{bmatrix}\n",
    "\\end{align}\n",
    "$$"
   ]
  },
  {
   "cell_type": "code",
   "execution_count": 2,
   "id": "efe1edd0-6a78-4dc4-b836-0dcdd32652dd",
   "metadata": {},
   "outputs": [
    {
     "name": "stdout",
     "output_type": "stream",
     "text": [
      "[[ 4  6 -6 -4  4]\n",
      " [ 6 -2  3  7 -9]\n",
      " [ 0 -3  8 -2  3]\n",
      " [-3 -1  3 -5 -8]]\n",
      "[6 7 8 3]\n",
      "[1 3 2 2]\n"
     ]
    }
   ],
   "source": [
    "import numpy as np\n",
    "a = np.random.randint(-9,9,[4,5])\n",
    "print(a)\n",
    "# Axis = 1 means row\n",
    "print(a.max(axis=1))\n",
    "print(a.argmax(axis=1)) # หรือ a.argmax(axis=1)"
   ]
  },
  {
   "cell_type": "markdown",
   "id": "358ffd46-11e5-4598-b0cc-b3ec9dd55e6f",
   "metadata": {},
   "source": [
    "## Softmax's for features >=2 \n",
    "## Sigmoid's features= 2\n",
    "### $$\n",
    "\\begin{align}\n",
    "\\mathbf{h} = \\mathbf{softmax}(\\mathbf{a})= \\frac{\\exp(\\pmb{a})}{\\sum_{k=0}^{m_1-1}\\exp(\\vec{a}_{i,k})}\n",
    "\\end{align}\n",
    "$$"
   ]
  },
  {
   "cell_type": "code",
   "execution_count": 268,
   "id": "1a53df14-59a8-41aa-8cd8-199249c6ebd2",
   "metadata": {},
   "outputs": [
    {
     "name": "stdout",
     "output_type": "stream",
     "text": [
      "[[-8 -1  2]\n",
      " [ 6  2 -8]\n",
      " [ 2 -4 -2]\n",
      " [ 7  0  6]]\n",
      "[[4.32449282e-05 4.74238222e-02 9.52532933e-01]\n",
      " [9.82012988e-01 1.79861953e-02 8.16572002e-07]\n",
      " [9.79629207e-01 2.42825803e-03 1.79425348e-02]\n",
      " [7.30571551e-01 6.66195022e-04 2.68762254e-01]]\n",
      "[1. 1. 1. 1.]\n"
     ]
    }
   ],
   "source": [
    "def softmax(x):\n",
    "    exp_x = np.exp(x.T-x.max(1))\n",
    "    return (exp_x/exp_x.sum(0)).T\n",
    "\n",
    "a = np.random.randint(-9,9,[4,3])\n",
    "print(a)\n",
    "\n",
    "# Activation func\n",
    "h = softmax(a)\n",
    "print(h)\n",
    "print(h.sum(1)) # sum of probability = 1"
   ]
  },
  {
   "cell_type": "code",
   "execution_count": 178,
   "id": "7538fe8a-b121-4c44-8ff2-79898cb89721",
   "metadata": {},
   "outputs": [
    {
     "name": "stdout",
     "output_type": "stream",
     "text": [
      "[[4.49175897e-06 9.46499123e-01 1.14195199e-01 9.92408247e-01]\n",
      " [2.68940213e-01 4.71234165e-02 4.20100661e-02 6.68679417e-03]\n",
      " [7.31055295e-01 6.37746092e-03 8.43794734e-01 9.04959183e-04]]\n"
     ]
    }
   ],
   "source": [
    "print(h.T)"
   ]
  },
  {
   "cell_type": "markdown",
   "id": "b58d0dbb-f5c3-4776-a371-c25ab21521d6",
   "metadata": {},
   "source": [
    "# Cross entropy loss\n",
    "## $$\n",
    "\\begin{align}\n",
    "J &= -\\frac{1}{n}\\sum_{i=0}^{n-1} \\sum_{k=0}^{m_1-1} z_{i,k} \\ln h_{i,k} \\\\\n",
    "&= -\\frac{1}{n}\\textbf{sum}(\\mathbf{z} \\ln \\mathbf{h})\n",
    "\\end{align}\n",
    "$$\n",
    "## One Hot ?"
   ]
  },
  {
   "cell_type": "code",
   "execution_count": 269,
   "id": "33cabffd-a73c-443f-8d3d-b00448e7a332",
   "metadata": {},
   "outputs": [
    {
     "name": "stdout",
     "output_type": "stream",
     "text": [
      "[2 1 1]\n",
      "\n",
      "[[False False  True False False]\n",
      " [False  True False False False]\n",
      " [False  True False False False]]\n",
      "\n",
      "[[0 0 1 0 0]\n",
      " [0 1 0 0 0]\n",
      " [0 1 0 0 0]]\n"
     ]
    }
   ],
   "source": [
    "def ha_1h(z,n):\n",
    "    return (z[:,None]==range(n))\n",
    "cal_onehot = ha_1h\n",
    "\n",
    "z = np.random.randint(0,5,3)\n",
    "print(z); print()\n",
    "print(ha_1h(z,5)); print()\n",
    "print(ha_1h(z,5).astype(int)) # เปลี่ยนเป็นเลข 1 และ 0\n"
   ]
  },
  {
   "cell_type": "markdown",
   "id": "60648080-1967-4e53-ba67-7becf6df8143",
   "metadata": {},
   "source": [
    "![CG](https://phyblas.hinaboshi.com/rup/nayuki/umaki/f02.png)"
   ]
  },
  {
   "cell_type": "markdown",
   "id": "5a14eca3-0b5f-42ea-bbaf-ff255b59b165",
   "metadata": {},
   "source": [
    "#### $\n",
    "\\begin{align}\n",
    "\\frac{\\partial J}{\\partial \\mathbf{h}} &= -\\frac{\\mathbf{z}}{n\\mathbf{h}} \\\\\n",
    "\\frac{\\partial \\mathbf{h}}{\\partial \\pmb{a}} &= \\frac{\\mathbf{h}(\\mathbf{z}-\\mathbf{h})}{\\mathbf{z}} \\\\\n",
    "\\mathbf{g}_a &= \\frac{\\partial J}{\\partial \\pmb{a}} = \\frac{1}{n}(\\mathbf{h}-\\mathbf{z}) \\\\\n",
    "\\frac{\\partial \\pmb{a}}{\\partial \\textbf{w}} &= \\mathbf{x} \\\\\n",
    "\\frac{\\partial \\pmb{a}}{\\partial \\vec{b}^T} &= \\vec{1}_{n} = \\begin{bmatrix} 1 \\\\ 1 \\\\ \\vdots \\\\ 1 \\end{bmatrix} \\\\\n",
    "\\mathbf{g}_w &= \\frac{\\partial J}{\\partial \\textbf{w}} = \\mathbf{x}^T \\cdot \\mathbf{g}_a \\\\\n",
    "\\vec{g}_b &= \\frac{\\partial J}{\\partial \\vec{b}} = \\mathbf{g}_a^T \\cdot \\vec{1}_{n} = \\sum_{i=0}^{n-1}\\mathbf{g}_{a,i}\n",
    "\\end{align}\n",
    "$\n",
    "\n",
    "![CG](https://phyblas.hinaboshi.com/rup/nayuki/umaki/f03.png)\n",
    "\n",
    "## $$\n",
    "\\begin{align}\n",
    "\\Delta \\mathbf{w} &= -\\eta \\mathbf{g}_w \\\\\n",
    "\\Delta \\vec{b} &= -\\eta \\vec{g}_b\n",
    "\\end{align}\n",
    "$$"
   ]
  },
  {
   "cell_type": "markdown",
   "id": "9e4a5d0d-eb39-4b0b-a7cd-2d031c46a913",
   "metadata": {},
   "source": [
    "# Classify features >= 2 "
   ]
  },
  {
   "cell_type": "code",
   "execution_count": 229,
   "id": "ae89725c-753b-4470-ad4a-2c4d796b7df5",
   "metadata": {},
   "outputs": [],
   "source": [
    "import numpy as np\n",
    "import matplotlib.pyplot as plt"
   ]
  },
  {
   "cell_type": "code",
   "execution_count": 267,
   "id": "204061b2-4902-4e56-9411-7e4aec839620",
   "metadata": {},
   "outputs": [],
   "source": [
    "def cal_cross_entropy(z, h):\n",
    "    return -(np.log(h[z] + 1e-10)).mean()\n",
    "\n",
    "class NN:\n",
    "    def __init__(self, eta):\n",
    "        self.eta = eta\n",
    "        \n",
    "    def cal_a(self, X):\n",
    "        return np.dot(X, self.w) + self.b\n",
    "        \n",
    "    def learn(self, X, z, n_learns):\n",
    "        self.n_groups = int(z.max() + 1) # z = [0,1], z = [0,1,2,3]\n",
    "        Z = cal_onehot(z, self.n_groups)\n",
    "        self.w = np.zeros([X.shape[1], self.n_groups]) # like np.zeros([5,3])\n",
    "        self.b = np.zeros(self.n_groups)\n",
    "        self.entropy = []\n",
    "        self.score = []\n",
    "        \n",
    "        for i in range(n_learns):\n",
    "            a = self.cal_a(X)\n",
    "            h = softmax(a)\n",
    "            J = cal_cross_entropy(Z, h)\n",
    "            g_a = (h-Z)/len(z)\n",
    "            \n",
    "            self.w -= self.eta * np.dot(X.T, g_a)\n",
    "            self.b -= self.eta * g_a.sum(axis=0) # sum col\n",
    "            \n",
    "            self.entropy.append(J)\n",
    "            score = (h.argmax(axis=1) == z).mean()\n",
    "            self.score.append(score)\n",
    "        \n",
    "    def predict(self, X):\n",
    "        return self.cal_a(X).argmax(axis=1)\n",
    "            \n",
    "        \n",
    "# Using z = group classified  "
   ]
  },
  {
   "cell_type": "code",
   "execution_count": 270,
   "id": "9bfa2caa-06a9-4642-abb8-ebcd7e2113c9",
   "metadata": {},
   "outputs": [
    {
     "data": {
      "image/png": "[encoded data removed]",
      "text/plain": [
       "<Figure size 432x288 with 1 Axes>"
      ]
     },
     "metadata": {
      "needs_background": "light"
     },
     "output_type": "display_data"
    }
   ],
   "source": [
    "np.random.seed(2)\n",
    "X = np.random.normal(0, .7, [45, 2])\n",
    "X[:15] += 2 # Blue group\n",
    "X[30:, 0] += 4 # Red to right\n",
    "z = np.arange(3).repeat(15)\n",
    "plt.axes(aspect=1)\n",
    "plt.scatter(X[:, 0], X[:, 1], 100, c=z, edgecolor='k', cmap='coolwarm')\n",
    "plt.show()"
   ]
  },
  {
   "cell_type": "code",
   "execution_count": 277,
   "id": "a966eef5-68d8-4e20-be42-a3d72c99a5c1",
   "metadata": {},
   "outputs": [
    {
     "name": "stdout",
     "output_type": "stream",
     "text": [
      "1.7082695068161706\n",
      "[2 0]\n"
     ]
    },
    {
     "data": {
      "image/png": "[encoded data removed]",
      "text/plain": [
       "<Figure size 432x288 with 1 Axes>"
      ]
     },
     "metadata": {
      "needs_background": "light"
     },
     "output_type": "display_data"
    }
   ],
   "source": [
    "nn = NN(eta=.1)\n",
    "nn.learn(X, z, n_learns=250)\n",
    "\n",
    "k = np.linspace(X[:, 0].min(), X[:, 0].max(), 200)\n",
    "v = np.linspace(X[:, 1].min(), X[:, 1].max(), 200)\n",
    "mx, my = np.meshgrid(k, v)\n",
    "mX = np.array([mx.ravel(), my.ravel()]).T\n",
    "mz = nn.predict(mX).reshape(200, -1)\n",
    "\n",
    "plt.contourf(mx, my, mz, cmap='coolwarm', alpha=.7)\n",
    "plt.scatter(X[:, 0], X[:, 1], 100, c=z, edgecolor='k', cmap='coolwarm')\n",
    "\n",
    "\n",
    "print(X[0,0])\n",
    "print(nn.predict(X[0,0]))\n",
    "\n",
    "\n",
    "plt.show()\n",
    "\n",
    "        "
   ]
  },
  {
   "cell_type": "code",
   "execution_count": 257,
   "id": "7928009b-fe37-4c8f-89a8-9d532059e873",
   "metadata": {},
   "outputs": [
    {
     "data": {
      "image/png": "[encoded data removed]",
      "text/plain": [
       "<Figure size 432x288 with 2 Axes>"
      ]
     },
     "metadata": {
      "needs_background": "light"
     },
     "output_type": "display_data"
    }
   ],
   "source": [
    "kw = dict(size=12)\n",
    "\n",
    "plt.subplot(211,xticks=[])\n",
    "plt.plot(nn.entropy,'C9')\n",
    "plt.ylabel('entropy', **kw)\n",
    "\n",
    "plt.subplot(212)\n",
    "plt.plot(nn.score, )\n",
    "plt.ylabel('score', **kw)\n",
    "\n",
    "plt.xlabel('round', **kw)\n",
    "plt.show()"
   ]
  },
  {
   "cell_type": "markdown",
   "id": "e462d38f-394a-4ca2-a0ba-0192fd81b5f8",
   "metadata": {},
   "source": [
    "# Classify Image to 5 groups\n",
    "![Img](https://phyblas.hinaboshi.com/rup/nayuki/umaki/f07.png)"
   ]
  },
  {
   "cell_type": "code",
   "execution_count": 286,
   "id": "b52a600f-51d7-414c-94bd-121d7d9bd667",
   "metadata": {},
   "outputs": [
    {
     "name": "stdout",
     "output_type": "stream",
     "text": [
      "0.811\n"
     ]
    },
    {
     "data": {
      "image/png": "[encoded data removed]",
      "text/plain": [
       "<Figure size 432x288 with 1 Axes>"
      ]
     },
     "metadata": {
      "needs_background": "light"
     },
     "output_type": "display_data"
    }
   ],
   "source": [
    "from glob import glob\n",
    "\n",
    "uri = '../../SAMPLE DATA/ruprang-raisi-25x25x1000x5/*/*.png'\n",
    "d = 25\n",
    "X_ = np.array([plt.imread(x) for x in sorted(glob(uri))])\n",
    "X = X_.reshape(-1, d*d)\n",
    "z = np.arange(5).repeat(1000)\n",
    "\n",
    "nn_img_classifier = NN(eta=.02)\n",
    "nn_img_classifier.learn(X, z, n_learns=1000)\n",
    "print(nn_img_classifier.score[-1])\n",
    "\n",
    "plt.plot(nn_img_classifier.score, 'C8')\n",
    "plt.ylabel('score', size=12)\n",
    "plt.xlabel('round', size=12)\n",
    "plt.show()"
   ]
  },
  {
   "cell_type": "code",
   "execution_count": 291,
   "id": "dcd6c746-bb10-4a29-a6ef-7b762c0f3777",
   "metadata": {},
   "outputs": [
    {
     "name": "stdout",
     "output_type": "stream",
     "text": [
      "(625,)\n"
     ]
    },
    {
     "data": {
      "text/plain": [
       "(5000, 625)"
      ]
     },
     "execution_count": 291,
     "metadata": {},
     "output_type": "execute_result"
    }
   ],
   "source": [
    "print(X[0].shape)\n",
    "X.shape"
   ]
  },
  {
   "cell_type": "code",
   "execution_count": 283,
   "id": "ab93df43-b05f-426e-a7cc-b44b596c4129",
   "metadata": {},
   "outputs": [
    {
     "data": {
      "text/plain": [
       "(625, 5)"
      ]
     },
     "execution_count": 283,
     "metadata": {},
     "output_type": "execute_result"
    }
   ],
   "source": [
    "nn_img_classifier.w.shape"
   ]
  },
  {
   "cell_type": "markdown",
   "id": "7923170b-7a0a-40b4-b747-d5f9ed13fdbf",
   "metadata": {},
   "source": [
    "# Just 80% precision ?? See CONFUSION MATRIX"
   ]
  },
  {
   "cell_type": "code",
   "execution_count": 303,
   "id": "d00a3f0d-57c4-4508-bb63-ed209f78e97e",
   "metadata": {},
   "outputs": [
    {
     "name": "stdout",
     "output_type": "stream",
     "text": [
      "[[699  10 214  18   6]\n",
      " [ 33 891 149   0  61]\n",
      " [265  75 605  55   0]\n",
      " [  3  10  22 927   0]\n",
      " [  0  14  10   0 933]]\n"
     ]
    }
   ],
   "source": [
    "def confusion_matrix(z1, z2):\n",
    "    n = max(z1.max(), z2.max()) + 1\n",
    "    \n",
    "    a = (z1 == np.arange(n)[:, None]).astype(int)\n",
    "    b = (z2[:, None] == np.arange(n)).astype(int)\n",
    "    \n",
    "    return np.dot(a, b)\n",
    "print(confusion_matrix(nn_img_classifier.predict(X), z))\n",
    "# print(z)\n",
    "# print(z.shape)\n",
    "# nn_img_classifier.predict(X)\n",
    "# np.unique(nn_img_classifier.predict(X))"
   ]
  }
 ],
 "metadata": {
  "kernelspec": {
   "display_name": "Python 3",
   "language": "python",
   "name": "python3"
  },
  "language_info": {
   "codemirror_mode": {
    "name": "ipython",
    "version": 3
   },
   "file_extension": ".py",
   "mimetype": "text/x-python",
   "name": "python",
   "nbconvert_exporter": "python",
   "pygments_lexer": "ipython3",
   "version": "3.9.7"
  }
 },
 "nbformat": 4,
 "nbformat_minor": 5
}
