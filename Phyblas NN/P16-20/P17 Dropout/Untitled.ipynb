{
 "cells": [
  {
   "cell_type": "markdown",
   "id": "c80d3b07-e03f-4e05-b593-1aebc3393875",
   "metadata": {},
   "source": [
    "# Dropout prevents over-learning\n",
    "### ดรอปเอาต์ คือการสร้างชั้นกรองชั้นหนึ่งสำหรับสุ่มเลือกให้ข้อมูลจากเซลล์ประสาทแค่บางเซลล์เท่านั้นผ่านไปได้\n",
    "![DO](https://phyblas.hinaboshi.com/rup/nayuki/umaki/q01.png)\n",
    "## ในแต่ละรอบของการฝึกเรียนรู้จะสุ่มเลือกไม่ซ้ำกัน ทำให้แต่ละรอบโครงข่ายใช้คนละเซลล์กันในการคำนวณ\n",
    "![DO2](https://phyblas.hinaboshi.com/rup/nayuki/umaki/q02.png)"
   ]
  },
  {
   "cell_type": "markdown",
   "id": "5762fed7-e5b4-48cb-a691-935e1f064463",
   "metadata": {},
   "source": [
    "### เพียงแต่ว่าการสุ่มเอาเซลล์ออกนี้จะทำเฉพาะตอนที่กำลังฝึกแบบจำลองอยู่เท่านั้น แต่ตอนที่ใช้งานเพื่อทำการทำนายจริงๆจะเปิดใช้หมดทุกเซลล์พร้อมกัน\n",
    "## ชั้นดรอปเอาต์จะวางไว้ที่ก่อนหรือหลังชั้นฟังก์ชันกระตุ้นในแต่ละชั้นก็ได้\n",
    "# ตัวอย่างผังโครงสร้างเพอร์เซปตรอน ๔ ชั้น\n",
    "![Structor](https://phyblas.hinaboshi.com/rup/nayuki/umaki/q03.png)"
   ]
  },
  {
   "cell_type": "markdown",
   "id": "ce98ac60-75ab-44d4-aa78-51f69d05496d",
   "metadata": {},
   "source": [
    "### ที่จริงแล้วแนวคิดของดรอปเอาต์นั้นเหมือนกับเทคนิคที่เรียกว่าการเรียนรู้แบบอ็องซ็องบล์ ***(ensemble learning)*** ซึ่งเป็นวิธีการที่สร้างแบบจำลองสำหรับทำนายขึ้นมาหลายๆตัวแล้วให้เรียนรู้ข้อมูลเดียวกัน แล้วสุดท้ายเวลาทำนายก็เอาแบบจำลองเหล่านี้มาพิจารณาร่วมกัน ซึ่งจะได้ประสิทธิภาพมากกว่าการพิจารณาด้วยแบบจำลองตัวเดียว\n",
    "# สำหรับโครงข่ายประสาทเทียม แค่สร้างชั้นดรอปเอาต์ขึ้นก็มีผลเทียบเท่ากับการเรียนรู้แบบอ็องซ็องบล์แล้ว \n",
    "### ชั้นของดรอปเอาต์จะต้องมีการแยกกรณีระหว่างตอนที่ฝึกกับตอนที่ใช้งานจริง เพราะตอนที่ฝึกจะให้ข้อมูลผ่านแค่บางส่วน แต่ตอนใช้งานจริงจะให้ไหลทั้งหมด\n"
   ]
  },
  {
   "cell_type": "code",
   "execution_count": 3,
   "id": "99f6e467-f348-4902-920c-8f8195682bf4",
   "metadata": {},
   "outputs": [],
   "source": [
    "import sys\n",
    "sys.path.insert(1, '../../Side Stories/')\n",
    "from unagi import Chan, ha_1h, Affin, Relu, Softmax_entropy, Adam"
   ]
  },
  {
   "cell_type": "code",
   "execution_count": 4,
   "id": "1e3229e2-1a37-457f-b9b2-2463d88c0021",
   "metadata": {},
   "outputs": [],
   "source": [
    "import numpy as np\n",
    "class Dropout(Chan):\n",
    "    def __init__(self, drop=.5):\n",
    "        self.drop = drop\n",
    "        self.is_training = 1\n",
    "        \n",
    "    def pai(self, x):\n",
    "        if (self.is_training):\n",
    "            self.filter = np.random.rand(*x.shape) > self.drop\n",
    "            return x*self.filter\n",
    "        else:\n",
    "            return x*(1-self.drop)\n",
    "    def yon(self, g):\n",
    "        return g*self.filter"
   ]
  },
  {
   "cell_type": "markdown",
   "id": "d02a17c9-49f8-4471-a463-6899bb62fe16",
   "metadata": {},
   "source": [
    "#### ค่า .train มีไว้แบ่งกรณีว่ากำลังอยู่ในโหมดฝึกอยู่หรือเปล่า ถ้าฝึกอยู่จะมีค่าเป็น 1 และจะมีการกรองเพื่อตัดค่าขาเข้าส่วนหนึ่งทิ้งไป ถ้าไม่ได้ฝึกอยู่ก็จะมีค่าเป็น 0 ก็จะไม่มีการกรองแต่ปล่อยให้ค่าทั้งหมดไหลผ่านไป"
   ]
  },
  {
   "cell_type": "code",
   "execution_count": 5,
   "id": "0b8f0660-4ad1-4de6-ae6b-ed6c58d96dba",
   "metadata": {},
   "outputs": [],
   "source": [
    "class Prasat:\n",
    "    def __init__(self,m,eta=0.001,drop=0):\n",
    "        self.m = m\n",
    "        self.chan = []\n",
    "        for i in range(len(m)-1):\n",
    "            self.chan.append(Affin(m[i],m[i+1],np.sqrt(2./m[i])))\n",
    "            if(i<len(m)-2):\n",
    "                if(drop): # ใส่ดรอปเอาต์ทุกชั้นยกเว้นชั้นสุดท้าย\n",
    "                    self.chan.append(Dropout(drop))\n",
    "                self.chan.append(Relu())\n",
    "        self.chan.append(Softmax_entropy())\n",
    "        self.opt = Adam(self.param(),eta=eta)\n",
    "    \n",
    "    def rianru(self,X,z,X_truat,z_truat,n_thamsam=100):\n",
    "        Z = ha_1h(z,self.m[-1])\n",
    "        self.khanaen_fuek = []\n",
    "        self.khanaen_truat = []\n",
    "        for o in range(n_thamsam):\n",
    "            entropy = self.ha_entropy(X,Z)\n",
    "            entropy.phraeyon()\n",
    "            self.opt()\n",
    "            khanaen_fuek = self.ha_khanaen(X,z)\n",
    "            khanaen_truat = self.ha_khanaen(X_truat,z_truat)\n",
    "            self.khanaen_fuek.append(khanaen_fuek)\n",
    "            self.khanaen_truat.append(khanaen_truat)\n",
    "            if(o%100==99):\n",
    "                print(u'ผ่านไป %d รอบ, ทำนายข้อมูลฝึกแม่น=%.2f, ทำนายข้อมูลตรวจสอบแม่น=%.2f'%(o+1,khanaen_fuek,khanaen_truat))\n",
    "    \n",
    "    def ha_entropy(self,X,Z,fuekyu=1):\n",
    "        for c in self.chan[:-1]:\n",
    "            c.fuekyu = fuekyu\n",
    "            X = c(X)\n",
    "        return self.chan[-1](X,Z)\n",
    "    \n",
    "    def param(self):\n",
    "        p = []\n",
    "        for c in self.chan:\n",
    "            if(hasattr(c,'param')):\n",
    "                p.extend(c.param)\n",
    "        return p\n",
    "    \n",
    "    def thamnai(self,X,fuekyu=0):\n",
    "        for c in self.chan[:-1]:\n",
    "            c.fuekyu = fuekyu\n",
    "            X = c(X)\n",
    "        return X.kha.argmax(1)\n",
    "    \n",
    "    def ha_khanaen(self,X,z):\n",
    "        return (self.thamnai(X)==z).mean()"
   ]
  },
  {
   "cell_type": "code",
   "execution_count": 7,
   "id": "20efaa3a-a292-4e1a-adf7-28f54c40e88d",
   "metadata": {},
   "outputs": [
    {
     "name": "stdout",
     "output_type": "stream",
     "text": [
      "ผ่านไป 100 รอบ, ทำนายข้อมูลฝึกแม่น=0.89, ทำนายข้อมูลตรวจสอบแม่น=0.81\n",
      "ผ่านไป 200 รอบ, ทำนายข้อมูลฝึกแม่น=0.99, ทำนายข้อมูลตรวจสอบแม่น=0.83\n",
      "ผ่านไป 300 รอบ, ทำนายข้อมูลฝึกแม่น=1.00, ทำนายข้อมูลตรวจสอบแม่น=0.81\n",
      "ผ่านไป 400 รอบ, ทำนายข้อมูลฝึกแม่น=1.00, ทำนายข้อมูลตรวจสอบแม่น=0.78\n",
      "ผ่านไป 500 รอบ, ทำนายข้อมูลฝึกแม่น=1.00, ทำนายข้อมูลตรวจสอบแม่น=0.78\n",
      "ผ่านไป 600 รอบ, ทำนายข้อมูลฝึกแม่น=1.00, ทำนายข้อมูลตรวจสอบแม่น=0.79\n",
      "ผ่านไป 100 รอบ, ทำนายข้อมูลฝึกแม่น=0.81, ทำนายข้อมูลตรวจสอบแม่น=0.74\n",
      "ผ่านไป 200 รอบ, ทำนายข้อมูลฝึกแม่น=0.91, ทำนายข้อมูลตรวจสอบแม่น=0.77\n",
      "ผ่านไป 300 รอบ, ทำนายข้อมูลฝึกแม่น=0.97, ทำนายข้อมูลตรวจสอบแม่น=0.75\n",
      "ผ่านไป 400 รอบ, ทำนายข้อมูลฝึกแม่น=0.95, ทำนายข้อมูลตรวจสอบแม่น=0.77\n",
      "ผ่านไป 500 รอบ, ทำนายข้อมูลฝึกแม่น=0.96, ทำนายข้อมูลตรวจสอบแม่น=0.79\n",
      "ผ่านไป 600 รอบ, ทำนายข้อมูลฝึกแม่น=0.95, ทำนายข้อมูลตรวจสอบแม่น=0.78\n"
     ]
    },
    {
     "data": {
      "image/png": "[encoded data removed]",
      "text/plain": [
       "<Figure size 468x360 with 2 Axes>"
      ]
     },
     "metadata": {
      "needs_background": "light"
     },
     "output_type": "display_data"
    }
   ],
   "source": [
    "import matplotlib.pyplot as plt\n",
    "from glob import glob\n",
    "\n",
    "uri = '../../SAMPLE DATA/ruprang-raisi-25x25x1000x5/*/*1.png'\n",
    "# โหลดเฉพาะรูปที่ชื่อลงท้ายด้วยเลข 1 ซึ่งมีอยู่ 1/10 ของรูปทั้งหมด\n",
    "X = np.array([plt.imread(x) for x in sorted(glob(uri))])\n",
    "X = X.reshape(-1,25*25)\n",
    "z = np.arange(5).repeat(100)\n",
    "n = len(z) # จำนวนข้อมูลทั้งหมด\n",
    "\n",
    "n_fuek = int(n*0.8) # จำนวนข้อมูลฝึกเป็น 4 ใน 5\n",
    "np.random.seed(9)\n",
    "sumlueak = np.random.permutation(n)\n",
    "X_fuek,X_truat = X[sumlueak[:n_fuek]],X[sumlueak[n_fuek:]]\n",
    "z_fuek,z_truat = z[sumlueak[:n_fuek]],z[sumlueak[n_fuek:]]\n",
    "\n",
    "plt.figure(figsize=[6.5,5])\n",
    "for drop in [0,1]:\n",
    "    plt.subplot(1,2,1+drop,ylim=[0.5,1.005])\n",
    "    drop *= 0.2\n",
    "    prasat = Prasat(m=[625,100,100,100,6],drop=drop)\n",
    "    prasat.rianru(X_fuek,z_fuek,X_truat,z_truat,n_thamsam=600)\n",
    "    plt.plot(prasat.khanaen_fuek,'#cc99ee')\n",
    "    plt.plot(prasat.khanaen_truat,'#55cc77')\n",
    "    plt.title(u'dropout %.1f'%drop,size=12)\n",
    "    if(drop==0):\n",
    "        plt.legend(['Train data', 'Test data'],)\n",
    "    else:\n",
    "        plt.yticks([])\n",
    "plt.tight_layout()\n",
    "plt.show()"
   ]
  },
  {
   "cell_type": "code",
   "execution_count": null,
   "id": "b753ec83-8553-47bf-b288-99e9c0e7bac9",
   "metadata": {},
   "outputs": [],
   "source": []
  }
 ],
 "metadata": {
  "kernelspec": {
   "display_name": "Python 3",
   "language": "python",
   "name": "python3"
  },
  "language_info": {
   "codemirror_mode": {
    "name": "ipython",
    "version": 3
   },
   "file_extension": ".py",
   "mimetype": "text/x-python",
   "name": "python",
   "nbconvert_exporter": "python",
   "pygments_lexer": "ipython3",
   "version": "3.9.7"
  }
 },
 "nbformat": 4,
 "nbformat_minor": 5
}
