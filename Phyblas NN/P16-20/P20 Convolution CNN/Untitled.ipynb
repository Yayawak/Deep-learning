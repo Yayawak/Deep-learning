{
 "cells": [
  {
   "cell_type": "markdown",
   "id": "ad29bd8a-25d1-4a18-9ffd-7ac9d5adca39",
   "metadata": {},
   "source": [
    "# (convolutional neural network) ถูกใช้อย่างกว้างขวางในการวิเคราะห์ข้อมูลรูปภาพหรืออนุกรมเวลา"
   ]
  },
  {
   "cell_type": "markdown",
   "id": "63e418fa-efab-4e17-96dc-a1746e5529dc",
   "metadata": {},
   "source": [
    "# Convolution Neural Network\n",
    "#### โครงข่ายปราสาทเทียมชนิดนี้นิยมใช้ในการวิเคราะห์ภาพหรืออนุกรมเวลาซึ่งเป็นข้อมูลที่มีความต่อเนื่อง มีการใช้งานที่กว้างขวางมากมาย\n",
    "![img](https://phyblas.hinaboshi.com/rup/nayuki/umaki/t01.png)\n",
    "ในข้อมูลนี้เมื่อทำการวิเคราะห์เราคงไม่ได้สนแค่ว่าแต่ละเดือนมีค่าเท่าไหร่บ้าง แต่สนใจความสัมพันธ์ของเดือนที่อยู่ติดกันด้วย เช่นเดือน 2 เพิ่มจากเดือน 1 แต่เดือน 3 ลดลงเล็กน้อย "
   ]
  },
  {
   "cell_type": "markdown",
   "id": "9097bb19-e041-477d-9a49-fe93f6caf4cc",
   "metadata": {},
   "source": [
    "# Time Series \n",
    "แต่ในโครงข่ายประสาทแบบเพอร์เซปตรอนหลายชั้นแบบเดิมนั้นข้อมูลทั้งหมดจะถูกป้อนเข้ามาในฐานะข้อมูลตัวแปรหนึ่งเหมือนๆกันหมด\n",
    "\n",
    "นั่นคือ แต่ละจุดบนเส้นกราฟ จะถูกนำมาแยกใส่ในแต่ละช่องข้อมูล ไม่ได้ถูกใส่ในฐานะเส้นต่อเนื่อง อาจมองภาพได้เป็นแบบนี้\n",
    "\n",
    "![inputs](https://phyblas.hinaboshi.com/rup/nayuki/umaki/t02.gif)\n",
    "\n"
   ]
  },
  {
   "cell_type": "markdown",
   "id": "91b84704-ee22-46e5-8b47-1d0b134369e9",
   "metadata": {},
   "source": [
    "### แต่ในโครงข่ายประสาทแบบคอนโวลูชันที่จะกล่าวถึงต่อไปนี้จะพิจารณาความสัมพันธ์ระหว่างจุดข้างเคียง อาจมองภาพได้เป็นแบบนี้\n",
    "![inputs in cv](https://phyblas.hinaboshi.com/rup/nayuki/umaki/t03.gif)"
   ]
  },
  {
   "cell_type": "markdown",
   "id": "01c8c563-3b81-45cc-a789-b250d18d38e9",
   "metadata": {},
   "source": [
    "โครงข่ายประสาทแบบคอนโวลูชันมีทั้งแบบหนึ่งมิติและสองมิติ หรือจำนวนมิติมากกว่านั้น ความซับซ้อนจะมากขึ้นตามลำดับ\n",
    "\n",
    "คนส่วนใหญ่คงจะคุ้นเคยกับแบบสองมิติ เพราะเป็นที่ใช้แพร่หลายในการวิเคราะห์รูปภาพ ซึ่งรูปภาพเป็นข้อมูลสองมิติ\n"
   ]
  },
  {
   "cell_type": "markdown",
   "id": "f8af93d7-c97f-4089-833a-f79a8df9b167",
   "metadata": {},
   "source": [
    "## โดยบทนี้จะเริ่มจาก***อธิบายแบบหนึ่งมิติ***ก่อน โดยตัวอย่างที่พบได้ทั่วไปคือข้อมูลอนุกรมเวลา\n",
    "# Please read this before\n",
    "#### งานวิจัยที่ใช้คอนโวลูชันหนึ่งมิติวิเคราะห์คือการวิเคราะห์กราฟแสงของดาวเพื่อค้นหาดาวเคราะห์ \n",
    "### [Light analysis](https://phyblas.hinaboshi.com/20171216)"
   ]
  },
  {
   "cell_type": "markdown",
   "id": "e14f8013-5731-411f-8f35-24f726fd7631",
   "metadata": {},
   "source": [
    "# Structure of CNN"
   ]
  },
  {
   "cell_type": "markdown",
   "id": "a9536439-c0f2-4083-a474-f928db6d79f5",
   "metadata": {},
   "source": [
    "1. Convolutional parts\n",
    "    - Convolutional layer\n",
    "    - Activtion Function\n",
    "    - Max pooling layer\n",
    "2. Linear parts\n",
    "    - Affine layer\n",
    "    - Activation function (except last layer use solfmax/sigmoid)\n",
    "    "
   ]
  },
  {
   "cell_type": "markdown",
   "id": "6328d7ed-5253-4ba7-88d1-3c5ff93da1bc",
   "metadata": {},
   "source": [
    "![Structure](https://phyblas.hinaboshi.com/rup/nayuki/umaki/t04.png)"
   ]
  },
  {
   "cell_type": "markdown",
   "id": "ae055ad0-c418-42b3-9c2a-a78fe349da3f",
   "metadata": {},
   "source": [
    "### ในโครงสร้างนี้ข้อมูลจะเริ่มเข้ามาในโครงข่ายประสาทโดยเริ่มผ่านจากส่วนคอนโวลูชัน ซึ่งอาจมีกี่ชั้นก็ได้ ในแต่ละชั้นจะประกอบไปด้วยชั้นย่อยที่ประกอบไปด้วยชั้นคอนโวลูชัน ตามด้วยฟังก์ชันกระตุ้นและชั้นบ่อรวมสูงสุด ทั้งหมดนี้นับรวมเป็น ๑ ชั้น\n",
    "# ตัวอย่างในภาพนี้มีชั้นคอนโวลูชัน ๒ ชั้น ชั้นเชิงเส้น ๒ ชั้น รวมเป็น ๔ ชั้น\n"
   ]
  },
  {
   "cell_type": "markdown",
   "id": "57639dfd-a225-4565-9bca-48e7f4d0c2c4",
   "metadata": {},
   "source": [
    "# First layer\n",
    "### \\begin{align}\n",
    "    a_1 &= \\textbf{Convolution}(x) \\\\\n",
    "    A_1 &= \\textbf{ReLU}(a_1) \\\\\n",
    "    h_1 &= \\textbf{Maxpool}(A_1)\n",
    "  \\end{align}\n",
    "# Second layer\n",
    "### \\begin{align}\n",
    "    a_2 &= \\textbf{Convolution}(h_1) \\\\\n",
    "    A_2 &= \\textbf{ReLU}(a_2) \\\\\n",
    "    h_2 &= \\textbf{Maxpool}(A_2)\n",
    "  \\end{align}\n",
    "# Third layer\n",
    "### \\begin{align}\n",
    "    a_3 &= \\textbf{Affin}(h_2) \\\\\n",
    "    h_3 &= \\textbf{ReLU}(a_3)\n",
    "  \\end{align}\n",
    "# Forth layer\n",
    "### \\begin{align}\n",
    "    a_4 &= \\textbf{Affin}(h_3) \\\\\n",
    "    h_4 &= \\textbf{Softmax}(a_4)\n",
    "  \\end{align}"
   ]
  },
  {
   "cell_type": "markdown",
   "id": "df44b657-d1ef-4403-9c6e-8867d4d4d5b3",
   "metadata": {},
   "source": [
    "#### โดยในที่นี้ \n",
    "x\n",
    ",\n",
    "h\n",
    "1\n",
    ",\n",
    "h\n",
    "2\n",
    ",\n",
    "h\n",
    "3\n",
    " คืออาเรย์ข้อมูลขาเข้าของชั้นที่ 1,2,3,4 ตามลำดับ\n",
    "\n",
    "และ \n",
    "h\n",
    "1\n",
    ",\n",
    "h\n",
    "2\n",
    ",\n",
    "h\n",
    "3\n",
    ",\n",
    "h\n",
    "4\n",
    " คืออาเรย์ข้อมูลขาออกชั้นที่ 1,2,3,4 ตามลำดับ\n"
   ]
  },
  {
   "cell_type": "markdown",
   "id": "ff4c168b-64e4-4db8-943b-cc37d7b3e893",
   "metadata": {},
   "source": [
    "###  สรุปโดยรวมแล้ว **โครงข่ายประสาทแบบคอนโวลูชันคือเพอร์เซปตรอนหลายชั้นที่เพิ่มส่วนคอนโวลูชันเข้ามาในช่วงต้นของโครงข่าย** การคำนวณในชั้นคอนโวลูชันเป็นส่วนสำคัญที่สุดของโครงข่ายประสาทแบบคอนโวลูชัน แต่พอผ่านชั้นคอนโวลูชันเสร็จก็ยังจะต้องผ่านชั้นคำนวณเชิงเส้นเหมือนเพอร์เซปตรอนหลายชั้นธรรมดา\n",
    "\n",
    "\n"
   ]
  },
  {
   "cell_type": "markdown",
   "id": "c4363813-f07a-42ad-bf9d-773019a54075",
   "metadata": {},
   "source": [
    "$\\huge{\\color{red}{\\text{Cross-correlation & Convolution}}} $\n",
    "#### การคำนวณที่เกิดขึ้นภายในชั้นคอนโวลูชันนั้นมีพื้นฐานมาจากการคำนวณสหสัมพันธ์ไขว้ (cross-correlation) ซึ่งมักถูกเรียกเป็นคอนโวลูชัน จึงเป็นที่มาที่ทำให้เรียกว่าโครงข่ายประสาทแบบคอนโวลูชัน\n",
    "# Please read [Cross-correlation and Convolution](https://phyblas.hinaboshi.com/20180609)"
   ]
  },
  {
   "cell_type": "code",
   "execution_count": 6,
   "id": "ec7eb3cd-b6b4-4f3c-b520-13a5da147ac5",
   "metadata": {},
   "outputs": [],
   "source": [
    "import sys\n",
    "sys.path.insert(1, '../../Side Stories/')\n",
    "from unagi import Conv1d"
   ]
  },
  {
   "cell_type": "code",
   "execution_count": null,
   "id": "ce62f595-d45b-4f8a-b72f-a7d3384f388f",
   "metadata": {},
   "outputs": [],
   "source": []
  }
 ],
 "metadata": {
  "kernelspec": {
   "display_name": "Python 3",
   "language": "python",
   "name": "python3"
  },
  "language_info": {
   "codemirror_mode": {
    "name": "ipython",
    "version": 3
   },
   "file_extension": ".py",
   "mimetype": "text/x-python",
   "name": "python",
   "nbconvert_exporter": "python",
   "pygments_lexer": "ipython3",
   "version": "3.9.7"
  }
 },
 "nbformat": 4,
 "nbformat_minor": 5
}
