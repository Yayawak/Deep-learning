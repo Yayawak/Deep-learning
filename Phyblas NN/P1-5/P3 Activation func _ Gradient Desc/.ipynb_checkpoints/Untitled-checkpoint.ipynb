{
 "cells": [
  {
   "cell_type": "markdown",
   "id": "03598a91-c4b5-445b-9e3f-3332f8ff1acb",
   "metadata": {},
   "source": [
    "# What is **Activation Function**\n",
    "### from last part we use step function to classify output\n",
    "# $$\n",
    "\\begin{align}\n",
    "a_i = a(\\vec{x_i}) = \\sum_{j=0}^{m-1}w_i x_{i,j} + b \\\\\n",
    "h_i = h(\\vec{x_i}) = \n",
    "\\begin{cases} \n",
    "        1 & a_i \\ge 0 \\\\\n",
    "        0 & a_i < 0\n",
    "   \\end{cases}\n",
    "\\end{align}\n",
    "$$"
   ]
  },
  {
   "cell_type": "markdown",
   "id": "7b592f7b-5774-414f-9649-780a9f789fb7",
   "metadata": {},
   "source": [
    "## ***$h_i$*** above is \"Step function\" it's not optimized\n",
    "## we want some function that more **Delicate/Sensitive** "
   ]
  },
  {
   "cell_type": "markdown",
   "id": "7e94587c-c968-4ec1-992b-c5d8f5c49457",
   "metadata": {},
   "source": [
    "# $$\n",
    "h_i = sigmoid(a_i) = \\dfrac{1}{1+ e^{-a_i}}\n",
    "$$\n",
    "![Activation functions](https://www.researchgate.net/profile/Rahul-Jayawardana/publication/350567223/figure/fig3/AS:1007855343767554@1617302847631/Fig-3-The-basic-activation-functions-of-the-neural-networksNeural-Networks.jpg)\n",
    "## Good to knows : Step function is also most basic Activation function "
   ]
  },
  {
   "cell_type": "code",
   "execution_count": 20,
   "id": "0df5fb3a-2579-4b6a-ba5f-379b5e22370c",
   "metadata": {},
   "outputs": [
    {
     "data": {
      "image/png": "[encoded data removed]",
      "text/plain": [
       "<Figure size 432x288 with 1 Axes>"
      ]
     },
     "metadata": {
      "needs_background": "light"
     },
     "output_type": "display_data"
    }
   ],
   "source": [
    "import numpy as np\n",
    "import matplotlib.pyplot as plt \n",
    "\n",
    "def sigmoid(x):\n",
    "    return 1/(1+np.exp(-x))\n",
    "def step(x):\n",
    "    # return 0 if x < 0 else 1\n",
    "    return x > 0 # return boolean\n",
    "def tanh(x):\n",
    "    # (e**x - e**-x)/(e**x + e**-x)\n",
    "    e = np.exp\n",
    "    return (e(x) - e(-x))/(e(x) + e(-x))\n",
    "\n",
    "x = np.linspace(-8,8, 1001)\n",
    "\n",
    "plt.axes(yticks=[-1,0,1] , xlabel='x', ylabel='h', )\n",
    "plt.plot(x, step(x), 'r', lw=3, label='step')\n",
    "plt.plot(x, sigmoid(x), 'g', lw=3, label='sigmoid')\n",
    "plt.plot(x, tanh(x), 'orange', lw=3, label='tanh')\n",
    "\n",
    "plt.grid(ls=':')\n",
    "plt.legend()\n",
    "plt.show()\n",
    "    "
   ]
  },
  {
   "cell_type": "markdown",
   "id": "58c6fb7d-a6f1-4dbf-ab3e-c9bba01039a4",
   "metadata": {},
   "source": [
    "# Loss Function\n",
    "## the more **loses-function-value $\\rightarrow$ bad**\n",
    "## Simple loss function is **Squared Deviation**\n",
    "# $$\n",
    "\\scriptsize{Squared \\: Deviation} \\quad  J_i = J(\\vec{x_i}) = (h_i - z_i)^2 \\; \\scriptsize{for \\: regression}\\\\ \n",
    "\\scriptsize{Cross \\: Entropy} \\quad  J_i = -z_i ln(h_i) - (1-z_i) ln(1-h_i) \\; \\scriptsize{for \\: classification}\n",
    "$$\n",
    "### $\\text{where $z_i$ is real value (not from prediction)}$\n",
    "![Cross entropy loss](http://androidkt.com/wp-content/uploads/2021/05/Selection_099-1024x200.png)"
   ]
  },
  {
   "cell_type": "markdown",
   "id": "1d14e01f-1642-4609-b6cf-858b3fc9cf80",
   "metadata": {},
   "source": [
    "# Gradient = Partial Derivation\n",
    "# $$ \\large{ J \\propto h \\propto a \\propto w, b  } $$\n",
    "## Write derivation $J$ depends on smallest units $w, b$\n",
    "# $ \\large{ \n",
    "\\frac{\\partial J}{\\partial w} = \\frac{\\partial J}{\\partial h} \n",
    "\\frac{\\partial h}{\\partial a} \n",
    "\\frac{\\partial a}{\\partial w}\n",
    "}\n",
    "$\n",
    "# $ \\large{ \n",
    "\\frac{\\partial J}{\\partial b} = \\frac{\\partial J}{\\partial h} \n",
    "\\frac{\\partial h}{\\partial a} \n",
    "\\frac{\\partial a}{\\partial b}\n",
    "}\n",
    "$\n",
    "---\n",
    "## From Cross entropy\n",
    "# $ \n",
    "\\begin{align}\n",
    "\\normalsize{ \n",
    "\\frac{\\partial J}{\\partial h} \n",
    "= \\frac{z}{h} - \\frac{1-z}{1-h} \n",
    "= \\frac{h-z}{h(1-z)}\n",
    "}\n",
    "\\tag{1}\n",
    "\\end{align}\n",
    "$\n",
    "---\n",
    "## From Sigmoid\n",
    "# $ \n",
    "\\begin{align}\n",
    "\\normalsize{ \n",
    "\\frac{\\partial h}{\\partial a} =\n",
    "h(1-h)\n",
    "\\tag{2}\n",
    "}\n",
    "\\end{align}\n",
    "$\n",
    "---\n",
    "## From $a_i$\n",
    "# $ \n",
    "\\begin{align}\n",
    "\\normalsize{ \n",
    "\\frac{\\partial a}{\\partial w} = x_{j,i} \\\\ \n",
    "\\frac{\\partial a}{\\partial b} = 1 \n",
    "}\n",
    "\\end{align}\n",
    "$"
   ]
  },
  {
   "cell_type": "markdown",
   "id": "a93da586-e28b-491f-ba0b-83b89b806f08",
   "metadata": {},
   "source": [
    "# From $(1) \\: x \\: (2)$\n",
    "# $$\n",
    "g_{a_i} = \n",
    "\\frac{\\partial J}{\\partial a} = \\frac{\\partial J}{\\partial h} \\frac{\\partial h}{\\partial a} = h_i - z_i\n",
    "$$"
   ]
  },
  {
   "cell_type": "markdown",
   "id": "da1efa76-88f0-4aa4-8f01-2116d981af20",
   "metadata": {},
   "source": [
    "# Adjust Parameters\n",
    "# $$\n",
    "\\Delta w_j = - \\eta g_{w_j} \\\\\n",
    "w_{j, new} = w_{j, old} + \\Delta w_j\n",
    "$$\n",
    "# Apply to Matrix Concepts\n",
    "# $$\n",
    "\\begin{align}\n",
    "&\\Delta \\vec{w} = - \\eta \\vec{g_w} \\\\\n",
    "&\\vec{w_{new}} = w_{old} + \\Delta \\vec{w} \\\\\\\\\n",
    "&\\Delta \\vec{b} = - \\eta \\vec{g_b} \\\\\n",
    "&\\vec{b_{new}} = b_{old} + \\Delta \\vec{b} \n",
    "\\end{align}\n",
    "$$"
   ]
  },
  {
   "cell_type": "markdown",
   "id": "b7ee1b9d-2c45-4d6d-8623-dbb6e7c68f3b",
   "metadata": {},
   "source": [
    "# Gradient Descendent\n",
    "- **Logistic regression analysis**\n",
    "    - classification\n",
    "    - parameter adjustable perceptron\n",
    "    - sigmoid activation function\n",
    "# $$\n",
    "\\begin{align}\n",
    "J = \\frac{1}{n} \\sum_{i=0}^{n-1} J_i\n",
    "\\end{align}\n",
    "$$"
   ]
  },
  {
   "cell_type": "code",
   "execution_count": 26,
   "id": "9c162a7d-0593-444a-a9a8-5c93c23c6f0e",
   "metadata": {},
   "outputs": [
    {
     "data": {
      "image/png": "[encoded data removed]",
      "text/plain": [
       "<Figure size 432x288 with 1 Axes>"
      ]
     },
     "metadata": {
      "needs_background": "light"
     },
     "output_type": "display_data"
    }
   ],
   "source": [
    "def sigmoid(x):\n",
    "    return 1/(1+np.exp(-x))\n",
    "def cross_entropy(z, h):\n",
    "    return -(z*np.log(h) + (1-z) * np.log(1-h))\n",
    "    \n",
    "X = and_gate = np.array([\n",
    "    [0,0],\n",
    "    [1,0],\n",
    "    [0,1],\n",
    "    [1,1]\n",
    "])\n",
    "z = np.array([0,0,0,1])\n",
    "n = len(z)\n",
    "w = init_weidge = np.array([0,0.0])\n",
    "b = 0\n",
    "eta = .8\n",
    "n_learns = 260\n",
    "entropy = []\n",
    "\n",
    "for o in range(n_learns):\n",
    "    for i in range(n):\n",
    "        a_i = np.dot(X[i], w) + b\n",
    "        h_i = sigmoid(a_i)\n",
    "        g_a_i = h_i - z[i]\n",
    "        g_w_i = g_a_i * X[i]\n",
    "        g_b_i = g_a_i\n",
    "        \n",
    "        # weigth adjustion\n",
    "        w -= eta * g_w_i\n",
    "        b -= eta * g_b_i\n",
    "        \n",
    "        J = cross_entropy(z[i], h_i)\n",
    "        entropy.append(J)\n",
    "        \n",
    "# viz\n",
    "mx, my = np.meshgrid(np.linspace(-0.5, 1.5, 200), np.linspace(-0.5, 1.5, 200))\n",
    "mX = np.array([mx.ravel(), my.ravel()]).T\n",
    "mh = np.dot(mX, w) + b\n",
    "# NO SIGMOID\n",
    "mz = (mh >= 0 ).astype(int).reshape(200, -1)\n",
    "\n",
    "plt.axes(aspect=1)\n",
    "plt.contourf(mx,my,mz, cmap='spring')\n",
    "plt.scatter(X[:,0], X[:,1], s=100, c=z, edgecolor='b', marker='D', cmap='gray' )\n",
    "plt.show()"
   ]
  },
  {
   "cell_type": "code",
   "execution_count": 29,
   "id": "33f496b0-5d45-4a7c-ab3c-9d54dcc585c7",
   "metadata": {},
   "outputs": [
    {
     "data": {
      "image/png": "[encoded data removed]",
      "text/plain": [
       "<Figure size 432x288 with 1 Axes>"
      ]
     },
     "metadata": {
      "needs_background": "light"
     },
     "output_type": "display_data"
    }
   ],
   "source": [
    "mz = sigmoid(mh).reshape(200,-1)\n",
    "plt.axes(aspect=1)\n",
    "plt.contourf(mx,my,mz,50,cmap='spring')\n",
    "plt.scatter(X[:,0],X[:,1],100,c=z,edgecolor='b',marker='D',cmap='gray')\n",
    "plt.show()"
   ]
  },
  {
   "cell_type": "code",
   "execution_count": 60,
   "id": "300bdffd-5ea6-4904-8ab3-a5d8633d44ff",
   "metadata": {},
   "outputs": [
    {
     "data": {
      "image/png": "[encoded data removed]",
      "text/plain": [
       "<Figure size 432x288 with 1 Axes>"
      ]
     },
     "metadata": {
      "needs_background": "light"
     },
     "output_type": "display_data"
    }
   ],
   "source": [
    "mz = tanh(mh).reshape(200,-1)\n",
    "plt.axes(aspect=1)\n",
    "plt.contourf(mx,my,mz,50,cmap='spring')\n",
    "plt.scatter(X[:,0],X[:,1],100,c=z,edgecolor='b',marker='D',cmap='gray')\n",
    "plt.show()"
   ]
  },
  {
   "cell_type": "markdown",
   "id": "81ebf496-3160-425c-91f9-3d5988102b9b",
   "metadata": {},
   "source": [
    "# Probability Prediction"
   ]
  },
  {
   "cell_type": "code",
   "execution_count": 95,
   "id": "a05510ff-dc60-4e65-9703-d8fb83ecec27",
   "metadata": {},
   "outputs": [
    {
     "data": {
      "image/png": "[encoded data removed]",
      "text/plain": [
       "<Figure size 432x288 with 1 Axes>"
      ]
     },
     "metadata": {
      "needs_background": "light"
     },
     "output_type": "display_data"
    }
   ],
   "source": [
    "plt.plot(entropy, 'r')\n",
    "\n",
    "plt.xlabel('n_learns', size=15)\n",
    "plt.ylabel('loss value', size=15)\n",
    "plt.title('loss per round', size=20)\n",
    "plt.annotate(text='gradually descendant down', xy=(200,.5), xytext=(600,1), \n",
    "            bbox=dict(color='orange'), \n",
    "            arrowprops=dict(color='orange', ),\n",
    "             fontsize=15, color='red',\n",
    "            ha='center', va='center')\n",
    "plt.show()"
   ]
  },
  {
   "cell_type": "code",
   "execution_count": null,
   "id": "34344a7a-a770-419e-89e2-23f989945389",
   "metadata": {},
   "outputs": [],
   "source": []
  }
 ],
 "metadata": {
  "kernelspec": {
   "display_name": "Python 3",
   "language": "python",
   "name": "python3"
  },
  "language_info": {
   "codemirror_mode": {
    "name": "ipython",
    "version": 3
   },
   "file_extension": ".py",
   "mimetype": "text/x-python",
   "name": "python",
   "nbconvert_exporter": "python",
   "pygments_lexer": "ipython3",
   "version": "3.9.7"
  }
 },
 "nbformat": 4,
 "nbformat_minor": 5
}
