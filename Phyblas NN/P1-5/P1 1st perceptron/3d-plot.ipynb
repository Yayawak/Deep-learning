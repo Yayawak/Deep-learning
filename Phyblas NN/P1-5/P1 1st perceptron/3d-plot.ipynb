{
 "cells": [
  {
   "cell_type": "code",
   "execution_count": 10,
   "id": "1355211b-8600-457a-bd90-08e6ac2567fe",
   "metadata": {},
   "outputs": [],
   "source": [
    "from mpl_toolkits.mplot3d.proj3d import proj_transform\n",
    "from matplotlib.text import Annotation\n",
    "\n",
    "class Annotation3D(Annotation):\n",
    "    '''Annotate the point xyz with text s'''\n",
    "\n",
    "    def __init__(self, s, xyz, *args, **kwargs):\n",
    "        Annotation.__init__(self,s, xy=(0,0), *args, **kwargs)\n",
    "        self._verts3d = xyz        \n",
    "\n",
    "    def draw(self, renderer):\n",
    "        xs3d, ys3d, zs3d = self._verts3d\n",
    "        xs, ys, zs = proj_transform(xs3d, ys3d, zs3d, self.axes.M)\n",
    "        self.xy=(xs,ys)\n",
    "        Annotation.draw(self, renderer)\n",
    "        "
   ]
  },
  {
   "cell_type": "code",
   "execution_count": 11,
   "id": "7bcc82c6-f400-4238-ad59-262046ff6258",
   "metadata": {},
   "outputs": [],
   "source": [
    "def annotate3D(ax, s, *args, **kwargs):\n",
    "    '''add anotation text s to to Axes3d ax'''\n",
    "\n",
    "    tag = Annotation3D(s, *args, **kwargs)\n",
    "    ax.add_artist(tag)"
   ]
  },
  {
   "cell_type": "code",
   "execution_count": 13,
   "id": "a93892f8-7d93-4344-aa8f-c79d5172df54",
   "metadata": {},
   "outputs": [
    {
     "data": {
      "image/png": "[encoded data removed]",
      "text/plain": [
       "<Figure size 360x240 with 1 Axes>"
      ]
     },
     "metadata": {
      "needs_background": "light"
     },
     "output_type": "display_data"
    }
   ],
   "source": [
    "import matplotlib.pyplot as plt    \n",
    "from mpl_toolkits.mplot3d import axes3d\n",
    "from mpl_toolkits.mplot3d.art3d import Line3DCollection\n",
    "%matplotlib inline\n",
    "\n",
    "# data: coordinates of nodes and links\n",
    "xn = [1.1, 1.9, 0.1, 0.3, 1.6, 0.8, 2.3, 1.2, 1.7, 1.0, -0.7, 0.1, 0.1, -0.9, 0.1, -0.1, 2.1, 2.7, 2.6, 2.0]\n",
    "yn = [-1.2, -2.0, -1.2, -0.7, -0.4, -2.2, -1.0, -1.3, -1.5, -2.1, -0.7, -0.3, 0.7, -0.0, -0.3, 0.7, 0.7, 0.3, 0.8, 1.2]\n",
    "zn = [-1.6, -1.5, -1.3, -2.0, -2.4, -2.1, -1.8, -2.8, -0.5, -0.8, -0.4, -1.1, -1.8, -1.5, 0.1, -0.6, 0.2, -0.1, -0.8, -0.4]\n",
    "group = [1, 1, 1, 1, 1, 1, 1, 1, 1, 1, 2, 2, 3, 2, 2, 2, 3, 3, 3, 3]\n",
    "edges = [(1, 0), (2, 0), (3, 0), (3, 2), (4, 0), (5, 0), (6, 0), (7, 0), (8, 0), (9, 0), (11, 10), (11, 3), (11, 2), (11, 0), (12, 11), (13, 11), (14, 11), (15, 11), (17, 16), (18, 16), (18, 17), (19, 16), (19, 17), (19, 18)]\n",
    "xyzn = list(zip(xn, yn, zn)) \n",
    "segments = [(xyzn[s], xyzn[t]) for s, t in edges]                \n",
    "\n",
    "# create figure        \n",
    "fig = plt.figure(dpi=60)\n",
    "ax = fig.add_subplot(projection='3d')\n",
    "ax.set_axis_off()\n",
    "\n",
    "# plot vertices\n",
    "ax.scatter(xn,yn,zn, marker='o', c = group, s = 64)    \n",
    "# plot edges\n",
    "edge_col = Line3DCollection(segments, lw=0.2)\n",
    "ax.add_collection3d(edge_col)\n",
    "# add vertices annotation.\n",
    "for j, xyz_ in enumerate(xyzn): \n",
    "    annotate3D(ax, s=str(j), xyz=xyz_, fontsize=10, xytext=(-3,3),\n",
    "               textcoords='offset points', ha='right',va='bottom')  "
   ]
  },
  {
   "cell_type": "code",
   "execution_count": null,
   "id": "f8024a60-2887-408e-a9ac-2d842b32214b",
   "metadata": {},
   "outputs": [],
   "source": []
  }
 ],
 "metadata": {
  "kernelspec": {
   "display_name": "Python 3",
   "language": "python",
   "name": "python3"
  },
  "language_info": {
   "codemirror_mode": {
    "name": "ipython",
    "version": 3
   },
   "file_extension": ".py",
   "mimetype": "text/x-python",
   "name": "python",
   "nbconvert_exporter": "python",
   "pygments_lexer": "ipython3",
   "version": "3.9.7"
  }
 },
 "nbformat": 4,
 "nbformat_minor": 5
}
