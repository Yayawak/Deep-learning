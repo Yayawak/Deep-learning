{
 "cells": [
  {
   "cell_type": "markdown",
   "id": "ebbfafa8-0d18-457b-932e-64c6dabd16d0",
   "metadata": {},
   "source": [
    "## Suppose that we have $h$ which depends on $a,b,c,d$\n",
    "# $$\n",
    "h = \\frac{a+bc}{c-d}\n",
    "$$\n",
    "## We chunk this function\n",
    "## $$\n",
    "\\begin{align}\n",
    "& e = bc \\\\\n",
    "& f = a + e \\\\\n",
    "& g = c -d \\\\\n",
    "& h = \\frac{f}{g}\n",
    "\\end{align}\n",
    "$$"
   ]
  },
  {
   "cell_type": "markdown",
   "id": "d127e38b-08be-442c-a068-d5db1ab10225",
   "metadata": {},
   "source": [
    "# This is **Computational Graph**\n",
    "![CG](https://phyblas.hinaboshi.com/rup/nayuki/umaki/e01.png)"
   ]
  },
  {
   "cell_type": "markdown",
   "id": "a05202b0-5a16-43c0-847b-11e9cb731e20",
   "metadata": {},
   "source": [
    "# Suppose : a=1, b=2, c=3, d=4\n",
    "![Add value to input](https://phyblas.hinaboshi.com/rup/nayuki/umaki/e02.png)"
   ]
  },
  {
   "cell_type": "markdown",
   "id": "139f92a7-344d-4be9-a45b-3bb99dbb4794",
   "metadata": {},
   "source": [
    "# Back Propagation\n",
    "![BP](https://phyblas.hinaboshi.com/rup/nayuki/umaki/e03.png)"
   ]
  },
  {
   "cell_type": "markdown",
   "id": "ca5de0a2-09ca-4327-961d-e91858f8c5ad",
   "metadata": {},
   "source": [
    "### $\\begin{align}\n",
    "\\frac{\\partial h}{\\partial g} &=& -\\frac{f}{g^2} \\\\\n",
    "\\frac{\\partial h}{\\partial f} &=& \\frac{1}{g} \\\\\n",
    "\\frac{\\partial h}{\\partial e} &=& \\frac{\\partial h}{\\partial f} \\frac{\\partial f}{\\partial e} &=& \\frac{1}{g} \\times 1  \\\\\n",
    "\\frac{\\partial h}{\\partial d} &=& \\frac{\\partial h}{\\partial g} \\frac{\\partial g}{\\partial d} &=& -\\frac{f}{g^2} \\times (-1)  \\\\\n",
    "\\frac{\\partial h}{\\partial c} &=& \\frac{\\partial h}{\\partial f} \\frac{\\partial f}{\\partial e} \\frac{\\partial e}{\\partial c} + \\frac{\\partial h}{\\partial g} \\frac{\\partial g}{\\partial c} &=& \\frac{1}{g} \\times 1 \\times b - \\frac{f}{g^2} \\times 1  \\\\\n",
    "\\frac{\\partial h}{\\partial b} &=& \\frac{\\partial h}{\\partial f} \\frac{\\partial f}{\\partial e} \\frac{\\partial e}{\\partial b} &=& \\frac{1}{g} \\times 1 \\times c  \\\\\n",
    "\\frac{\\partial h}{\\partial a} &=& \\frac{\\partial h}{\\partial f} \\frac{\\partial f}{\\partial a} &=& \\frac{1}{g} \\times 1  \\\\\n",
    "\\end{align}\n",
    "$"
   ]
  },
  {
   "cell_type": "markdown",
   "id": "05cdb844-e424-4713-b5c8-084d007673ed",
   "metadata": {},
   "source": [
    "![BP](https://phyblas.hinaboshi.com/rup/nayuki/umaki/e04.png)"
   ]
  },
  {
   "cell_type": "markdown",
   "id": "330e1847-56e7-4f0d-b8cc-5dd94343e03f",
   "metadata": {},
   "source": [
    "![BP fill value of f,g](https://phyblas.hinaboshi.com/rup/nayuki/umaki/e05.png)"
   ]
  },
  {
   "cell_type": "markdown",
   "id": "4446ad60-497d-4b7e-b300-9b93b130c6e3",
   "metadata": {},
   "source": [
    "# Computational Graph of Function\n",
    "![Sigmoid process](https://phyblas.hinaboshi.com/rup/nayuki/umaki/e06.png)\n",
    "![Short Sigmoid](https://phyblas.hinaboshi.com/rup/nayuki/umaki/e07.png)"
   ]
  },
  {
   "cell_type": "markdown",
   "id": "5cdc180b-a7f4-498d-8b71-922da0b4cfbe",
   "metadata": {},
   "source": [
    "# Computational Graph of Single Perceptron\n",
    "![SP](https://phyblas.hinaboshi.com/rup/nayuki/umaki/e08.png)\n",
    "![SP filled value](https://phyblas.hinaboshi.com/rup/nayuki/umaki/e09.png)"
   ]
  },
  {
   "cell_type": "code",
   "execution_count": null,
   "id": "967acaed-7899-4a75-815b-13ac5dba8c0f",
   "metadata": {},
   "outputs": [],
   "source": []
  }
 ],
 "metadata": {
  "kernelspec": {
   "display_name": "Python 3",
   "language": "python",
   "name": "python3"
  },
  "language_info": {
   "codemirror_mode": {
    "name": "ipython",
    "version": 3
   },
   "file_extension": ".py",
   "mimetype": "text/x-python",
   "name": "python",
   "nbconvert_exporter": "python",
   "pygments_lexer": "ipython3",
   "version": "3.9.7"
  }
 },
 "nbformat": 4,
 "nbformat_minor": 5
}
