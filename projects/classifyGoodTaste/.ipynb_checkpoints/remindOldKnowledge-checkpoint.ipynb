{
 "cells": [
  {
   "cell_type": "code",
   "execution_count": 1,
   "id": "592b4162-d5b3-4bec-8bd5-6df973967e99",
   "metadata": {},
   "outputs": [],
   "source": [
    "import numpy as np\n",
    "import matplotlib.pyplot as plt"
   ]
  },
  {
   "cell_type": "code",
   "execution_count": 3,
   "id": "0857320d-6758-48f7-86b3-af7291a2b937",
   "metadata": {},
   "outputs": [],
   "source": [
    "from sklearn.cluster import KMeans"
   ]
  },
  {
   "cell_type": "code",
   "execution_count": 4,
   "id": "d2af3c64-9109-47fb-a7be-6e470a3cf83e",
   "metadata": {},
   "outputs": [],
   "source": [
    "from sklearn import datasets\n",
    "from sklearn.metrics import confusion_matrix"
   ]
  },
  {
   "cell_type": "code",
   "execution_count": 5,
   "id": "77e39f3b-ffdc-422d-8048-7597c5610ab8",
   "metadata": {},
   "outputs": [],
   "source": [
    "minst = datasets.fetch_openml(\"mnist_784\")"
   ]
  },
  {
   "cell_type": "code",
   "execution_count": 32,
   "id": "3b3c8a7f-e70e-44fd-b824-336015531c70",
   "metadata": {},
   "outputs": [],
   "source": [
    "mnist = minst\n",
    "X, z = mnist.data, mnist.target"
   ]
  },
  {
   "cell_type": "code",
   "execution_count": 33,
   "id": "af14a814-f821-4b54-99c0-a711f044a34f",
   "metadata": {},
   "outputs": [
    {
     "data": {
      "text/plain": [
       "(70000, 784)"
      ]
     },
     "execution_count": 33,
     "metadata": {},
     "output_type": "execute_result"
    }
   ],
   "source": [
    "X.shape"
   ]
  },
  {
   "cell_type": "code",
   "execution_count": 34,
   "id": "a6c01845-70ac-4c1e-af81-e88d44d9e6eb",
   "metadata": {},
   "outputs": [
    {
     "data": {
      "text/plain": [
       "(70000,)"
      ]
     },
     "execution_count": 34,
     "metadata": {},
     "output_type": "execute_result"
    }
   ],
   "source": [
    "z.shape"
   ]
  },
  {
   "cell_type": "code",
   "execution_count": null,
   "id": "ed6e3ca1-dbd2-4831-92c2-ff1baea82f26",
   "metadata": {},
   "outputs": [],
   "source": []
  },
  {
   "cell_type": "code",
   "execution_count": 12,
   "id": "5afa52ff-3c3f-4e13-ab75-100e693e14b0",
   "metadata": {},
   "outputs": [
    {
     "data": {
      "text/html": [
       "<div>\n",
       "<style scoped>\n",
       "    .dataframe tbody tr th:only-of-type {\n",
       "        vertical-align: middle;\n",
       "    }\n",
       "\n",
       "    .dataframe tbody tr th {\n",
       "        vertical-align: top;\n",
       "    }\n",
       "\n",
       "    .dataframe thead th {\n",
       "        text-align: right;\n",
       "    }\n",
       "</style>\n",
       "<table border=\"1\" class=\"dataframe\">\n",
       "  <thead>\n",
       "    <tr style=\"text-align: right;\">\n",
       "      <th></th>\n",
       "      <th>pixel1</th>\n",
       "      <th>pixel2</th>\n",
       "      <th>pixel3</th>\n",
       "      <th>pixel4</th>\n",
       "      <th>pixel5</th>\n",
       "      <th>pixel6</th>\n",
       "      <th>pixel7</th>\n",
       "      <th>pixel8</th>\n",
       "      <th>pixel9</th>\n",
       "      <th>pixel10</th>\n",
       "      <th>...</th>\n",
       "      <th>pixel775</th>\n",
       "      <th>pixel776</th>\n",
       "      <th>pixel777</th>\n",
       "      <th>pixel778</th>\n",
       "      <th>pixel779</th>\n",
       "      <th>pixel780</th>\n",
       "      <th>pixel781</th>\n",
       "      <th>pixel782</th>\n",
       "      <th>pixel783</th>\n",
       "      <th>pixel784</th>\n",
       "    </tr>\n",
       "  </thead>\n",
       "  <tbody>\n",
       "    <tr>\n",
       "      <th>0</th>\n",
       "      <td>0.0</td>\n",
       "      <td>0.0</td>\n",
       "      <td>0.0</td>\n",
       "      <td>0.0</td>\n",
       "      <td>0.0</td>\n",
       "      <td>0.0</td>\n",
       "      <td>0.0</td>\n",
       "      <td>0.0</td>\n",
       "      <td>0.0</td>\n",
       "      <td>0.0</td>\n",
       "      <td>...</td>\n",
       "      <td>0.0</td>\n",
       "      <td>0.0</td>\n",
       "      <td>0.0</td>\n",
       "      <td>0.0</td>\n",
       "      <td>0.0</td>\n",
       "      <td>0.0</td>\n",
       "      <td>0.0</td>\n",
       "      <td>0.0</td>\n",
       "      <td>0.0</td>\n",
       "      <td>0.0</td>\n",
       "    </tr>\n",
       "    <tr>\n",
       "      <th>1</th>\n",
       "      <td>0.0</td>\n",
       "      <td>0.0</td>\n",
       "      <td>0.0</td>\n",
       "      <td>0.0</td>\n",
       "      <td>0.0</td>\n",
       "      <td>0.0</td>\n",
       "      <td>0.0</td>\n",
       "      <td>0.0</td>\n",
       "      <td>0.0</td>\n",
       "      <td>0.0</td>\n",
       "      <td>...</td>\n",
       "      <td>0.0</td>\n",
       "      <td>0.0</td>\n",
       "      <td>0.0</td>\n",
       "      <td>0.0</td>\n",
       "      <td>0.0</td>\n",
       "      <td>0.0</td>\n",
       "      <td>0.0</td>\n",
       "      <td>0.0</td>\n",
       "      <td>0.0</td>\n",
       "      <td>0.0</td>\n",
       "    </tr>\n",
       "    <tr>\n",
       "      <th>2</th>\n",
       "      <td>0.0</td>\n",
       "      <td>0.0</td>\n",
       "      <td>0.0</td>\n",
       "      <td>0.0</td>\n",
       "      <td>0.0</td>\n",
       "      <td>0.0</td>\n",
       "      <td>0.0</td>\n",
       "      <td>0.0</td>\n",
       "      <td>0.0</td>\n",
       "      <td>0.0</td>\n",
       "      <td>...</td>\n",
       "      <td>0.0</td>\n",
       "      <td>0.0</td>\n",
       "      <td>0.0</td>\n",
       "      <td>0.0</td>\n",
       "      <td>0.0</td>\n",
       "      <td>0.0</td>\n",
       "      <td>0.0</td>\n",
       "      <td>0.0</td>\n",
       "      <td>0.0</td>\n",
       "      <td>0.0</td>\n",
       "    </tr>\n",
       "    <tr>\n",
       "      <th>3</th>\n",
       "      <td>0.0</td>\n",
       "      <td>0.0</td>\n",
       "      <td>0.0</td>\n",
       "      <td>0.0</td>\n",
       "      <td>0.0</td>\n",
       "      <td>0.0</td>\n",
       "      <td>0.0</td>\n",
       "      <td>0.0</td>\n",
       "      <td>0.0</td>\n",
       "      <td>0.0</td>\n",
       "      <td>...</td>\n",
       "      <td>0.0</td>\n",
       "      <td>0.0</td>\n",
       "      <td>0.0</td>\n",
       "      <td>0.0</td>\n",
       "      <td>0.0</td>\n",
       "      <td>0.0</td>\n",
       "      <td>0.0</td>\n",
       "      <td>0.0</td>\n",
       "      <td>0.0</td>\n",
       "      <td>0.0</td>\n",
       "    </tr>\n",
       "    <tr>\n",
       "      <th>4</th>\n",
       "      <td>0.0</td>\n",
       "      <td>0.0</td>\n",
       "      <td>0.0</td>\n",
       "      <td>0.0</td>\n",
       "      <td>0.0</td>\n",
       "      <td>0.0</td>\n",
       "      <td>0.0</td>\n",
       "      <td>0.0</td>\n",
       "      <td>0.0</td>\n",
       "      <td>0.0</td>\n",
       "      <td>...</td>\n",
       "      <td>0.0</td>\n",
       "      <td>0.0</td>\n",
       "      <td>0.0</td>\n",
       "      <td>0.0</td>\n",
       "      <td>0.0</td>\n",
       "      <td>0.0</td>\n",
       "      <td>0.0</td>\n",
       "      <td>0.0</td>\n",
       "      <td>0.0</td>\n",
       "      <td>0.0</td>\n",
       "    </tr>\n",
       "  </tbody>\n",
       "</table>\n",
       "<p>5 rows × 784 columns</p>\n",
       "</div>"
      ],
      "text/plain": [
       "   pixel1  pixel2  pixel3  pixel4  pixel5  pixel6  pixel7  pixel8  pixel9  \\\n",
       "0     0.0     0.0     0.0     0.0     0.0     0.0     0.0     0.0     0.0   \n",
       "1     0.0     0.0     0.0     0.0     0.0     0.0     0.0     0.0     0.0   \n",
       "2     0.0     0.0     0.0     0.0     0.0     0.0     0.0     0.0     0.0   \n",
       "3     0.0     0.0     0.0     0.0     0.0     0.0     0.0     0.0     0.0   \n",
       "4     0.0     0.0     0.0     0.0     0.0     0.0     0.0     0.0     0.0   \n",
       "\n",
       "   pixel10  ...  pixel775  pixel776  pixel777  pixel778  pixel779  pixel780  \\\n",
       "0      0.0  ...       0.0       0.0       0.0       0.0       0.0       0.0   \n",
       "1      0.0  ...       0.0       0.0       0.0       0.0       0.0       0.0   \n",
       "2      0.0  ...       0.0       0.0       0.0       0.0       0.0       0.0   \n",
       "3      0.0  ...       0.0       0.0       0.0       0.0       0.0       0.0   \n",
       "4      0.0  ...       0.0       0.0       0.0       0.0       0.0       0.0   \n",
       "\n",
       "   pixel781  pixel782  pixel783  pixel784  \n",
       "0       0.0       0.0       0.0       0.0  \n",
       "1       0.0       0.0       0.0       0.0  \n",
       "2       0.0       0.0       0.0       0.0  \n",
       "3       0.0       0.0       0.0       0.0  \n",
       "4       0.0       0.0       0.0       0.0  \n",
       "\n",
       "[5 rows x 784 columns]"
      ]
     },
     "execution_count": 12,
     "metadata": {},
     "output_type": "execute_result"
    }
   ],
   "source": [
    "import pandas as pd\n",
    "X.head()"
   ]
  },
  {
   "cell_type": "code",
   "execution_count": 13,
   "id": "094da5c7-c788-4e5e-9fdc-9238c719264d",
   "metadata": {},
   "outputs": [
    {
     "data": {
      "text/plain": [
       "(70000, 784)"
      ]
     },
     "execution_count": 13,
     "metadata": {},
     "output_type": "execute_result"
    }
   ],
   "source": [
    "X.shape\n"
   ]
  },
  {
   "cell_type": "code",
   "execution_count": 18,
   "id": "3e91e04e-bde1-4aaf-9730-36d4a16fe6d8",
   "metadata": {},
   "outputs": [
    {
     "data": {
      "text/plain": [
       "pixel1      0.0\n",
       "pixel2      0.0\n",
       "pixel3      0.0\n",
       "pixel4      0.0\n",
       "pixel5      0.0\n",
       "           ... \n",
       "pixel780    0.0\n",
       "pixel781    0.0\n",
       "pixel782    0.0\n",
       "pixel783    0.0\n",
       "pixel784    0.0\n",
       "Name: 0, Length: 784, dtype: float64"
      ]
     },
     "execution_count": 18,
     "metadata": {},
     "output_type": "execute_result"
    }
   ],
   "source": [
    "X.iloc[0]"
   ]
  },
  {
   "cell_type": "code",
   "execution_count": 19,
   "id": "cac375d2-0f06-495c-a128-bb0cd99a84e9",
   "metadata": {},
   "outputs": [],
   "source": [
    "import seaborn as sns"
   ]
  },
  {
   "cell_type": "code",
   "execution_count": 144,
   "id": "8105a6fe-a2ae-4c13-ae48-e7a91f4a218e",
   "metadata": {},
   "outputs": [],
   "source": [
    "# sns.heatmap(X[0])\n",
    "np.random.seed(22)"
   ]
  },
  {
   "cell_type": "code",
   "execution_count": 145,
   "id": "32cfc6d6-698a-412f-befe-c39b7514972c",
   "metadata": {},
   "outputs": [
    {
     "data": {
      "text/plain": [
       "KMeans(n_clusters=10)"
      ]
     },
     "execution_count": 145,
     "metadata": {},
     "output_type": "execute_result"
    }
   ],
   "source": [
    "km = KMeans(n_clusters=10)\n",
    "km.fit(X)\n"
   ]
  },
  {
   "cell_type": "code",
   "execution_count": 146,
   "id": "98a985a5-9696-4d90-b85f-859bc60c5bdb",
   "metadata": {},
   "outputs": [
    {
     "data": {
      "text/plain": [
       "array([2, 9, 5, ..., 7, 2, 8], dtype=int32)"
      ]
     },
     "execution_count": 146,
     "metadata": {},
     "output_type": "execute_result"
    }
   ],
   "source": [
    "z_predict = km.predict(X)\n",
    "z_predict"
   ]
  },
  {
   "cell_type": "code",
   "execution_count": 147,
   "id": "8a523c01-d2ba-42f8-a180-36dd28a7e13f",
   "metadata": {},
   "outputs": [
    {
     "data": {
      "text/plain": [
       "['5', '0', '4', '1', '9', ..., '2', '3', '4', '5', '6']\n",
       "Length: 70000\n",
       "Categories (10, object): ['0', '1', '2', '3', ..., '6', '7', '8', '9']"
      ]
     },
     "execution_count": 147,
     "metadata": {},
     "output_type": "execute_result"
    }
   ],
   "source": [
    "z.values"
   ]
  },
  {
   "cell_type": "code",
   "execution_count": 148,
   "id": "faa5c057-1d30-413d-b600-5bb92f790338",
   "metadata": {},
   "outputs": [
    {
     "data": {
      "text/plain": [
       "(70000,)"
      ]
     },
     "execution_count": 148,
     "metadata": {},
     "output_type": "execute_result"
    }
   ],
   "source": [
    "z.shape"
   ]
  },
  {
   "cell_type": "code",
   "execution_count": 149,
   "id": "0194b025-6292-48b9-bc79-186d78286c38",
   "metadata": {},
   "outputs": [
    {
     "data": {
      "text/plain": [
       "(70000,)"
      ]
     },
     "execution_count": 149,
     "metadata": {},
     "output_type": "execute_result"
    }
   ],
   "source": [
    "z_predict.shape"
   ]
  },
  {
   "cell_type": "code",
   "execution_count": 150,
   "id": "fb69697e-841c-45da-ae1f-ac006caa975d",
   "metadata": {},
   "outputs": [
    {
     "data": {
      "text/plain": [
       "numpy.ndarray"
      ]
     },
     "execution_count": 150,
     "metadata": {},
     "output_type": "execute_result"
    }
   ],
   "source": [
    "type(z.to_numpy())"
   ]
  },
  {
   "cell_type": "code",
   "execution_count": 151,
   "id": "f05cf3fb-ae45-4f08-a9fd-d5c520a44ac3",
   "metadata": {},
   "outputs": [
    {
     "data": {
      "text/plain": [
       "numpy.ndarray"
      ]
     },
     "execution_count": 151,
     "metadata": {},
     "output_type": "execute_result"
    }
   ],
   "source": [
    "type(z_predict)"
   ]
  },
  {
   "cell_type": "code",
   "execution_count": 152,
   "id": "1a2fe4c6-4175-4485-92fb-a6d2a644f20e",
   "metadata": {},
   "outputs": [],
   "source": [
    "z_true = z.to_numpy().astype(np.int32)"
   ]
  },
  {
   "cell_type": "code",
   "execution_count": 153,
   "id": "5d63cdae-f9a0-4c3d-94d7-ab4e6a889f7d",
   "metadata": {},
   "outputs": [
    {
     "data": {
      "text/plain": [
       "array([2, 9, 5, ..., 7, 2, 8], dtype=int32)"
      ]
     },
     "execution_count": 153,
     "metadata": {},
     "output_type": "execute_result"
    }
   ],
   "source": [
    "z_predict"
   ]
  },
  {
   "cell_type": "code",
   "execution_count": 154,
   "id": "8a7a37db-69a0-42f8-b678-2408e2b950d7",
   "metadata": {},
   "outputs": [
    {
     "data": {
      "text/plain": [
       "array([[ 284,    0,  637,   15,   36,  106,   44,   30,  267, 5484],\n",
       "       [  11, 4370,    7,    8, 3451,    3,    9,    7,   11,    0],\n",
       "       [ 457,  368,  155,   45,  468,  271, 4906,   75,  173,   72],\n",
       "       [4593,  417, 1383,  182,   96,   69,  257,   41,   66,   37],\n",
       "       [   0,  112,   13, 1932,  273, 2538,   17, 1785,  150,    4],\n",
       "       [2067,  131, 2163,  359,  813,  208,   20,  329,  154,   69],\n",
       "       [  34,  277,  165,    4,  228,  721,   79,    1, 5277,   90],\n",
       "       [   3,  246,    4, 2711,  292,  603,   42, 3374,    4,   14],\n",
       "       [1603,  294, 3661,  255,  452,  153,   49,  261,   61,   36],\n",
       "       [  92,  148,   57, 2977,   88, 1549,    6, 1994,   10,   37]])"
      ]
     },
     "execution_count": 154,
     "metadata": {},
     "output_type": "execute_result"
    }
   ],
   "source": [
    "conf_mat = confusion_matrix(z_true, z_predict)\n",
    "conf_mat\n",
    "# confusion_matrix(z.values, z_predict)"
   ]
  },
  {
   "cell_type": "code",
   "execution_count": 155,
   "id": "42130345-ecef-4c55-9eb6-f0f107f51663",
   "metadata": {},
   "outputs": [
    {
     "data": {
      "text/plain": [
       "<AxesSubplot:>"
      ]
     },
     "execution_count": 155,
     "metadata": {},
     "output_type": "execute_result"
    },
    {
     "data": {
      "image/png": "[encoded data removed]",
      "text/plain": [
       "<Figure size 432x288 with 2 Axes>"
      ]
     },
     "metadata": {
      "needs_background": "light"
     },
     "output_type": "display_data"
    }
   ],
   "source": [
    "sns.heatmap(conf_mat,\n",
    "            # annot=\n",
    "            # cmap='coolwarm'\n",
    "            # norma\n",
    "           )"
   ]
  },
  {
   "cell_type": "code",
   "execution_count": 156,
   "id": "8108b845-f230-4f71-9c7f-135baf83611b",
   "metadata": {},
   "outputs": [
    {
     "data": {
      "text/plain": [
       "-178462865877.19763"
      ]
     },
     "execution_count": 156,
     "metadata": {},
     "output_type": "execute_result"
    }
   ],
   "source": [
    "km.score(X)"
   ]
  },
  {
   "cell_type": "code",
   "execution_count": 157,
   "id": "087d83a7-c8d1-4144-8618-c858d0ae9169",
   "metadata": {},
   "outputs": [
    {
     "data": {
      "text/plain": [
       "-178462865877.19763"
      ]
     },
     "execution_count": 157,
     "metadata": {},
     "output_type": "execute_result"
    }
   ],
   "source": [
    "km.score(X, z)"
   ]
  },
  {
   "cell_type": "code",
   "execution_count": 158,
   "id": "9417a4a0-5aae-4ed0-a6fd-57ae71986a5d",
   "metadata": {},
   "outputs": [],
   "source": [
    "from sklearn.metrics import accuracy_score, auc"
   ]
  },
  {
   "cell_type": "code",
   "execution_count": 159,
   "id": "de3de3a4-f24c-4098-a025-e77dee846dad",
   "metadata": {},
   "outputs": [
    {
     "data": {
      "text/plain": [
       "0.1289"
      ]
     },
     "execution_count": 159,
     "metadata": {},
     "output_type": "execute_result"
    }
   ],
   "source": [
    "acc = accuracy_score(z_true, z_predict)\n",
    "acc"
   ]
  },
  {
   "cell_type": "code",
   "execution_count": 160,
   "id": "02408b75-a70f-44a2-8571-4286a1007751",
   "metadata": {},
   "outputs": [],
   "source": [
    "import scikitplot as skplot"
   ]
  },
  {
   "cell_type": "code",
   "execution_count": 161,
   "id": "c11db520-91be-4fdc-a2c4-247e0d20ae06",
   "metadata": {},
   "outputs": [
    {
     "data": {
      "image/png": "[encoded data removed]",
      "text/plain": [
       "<Figure size 432x288 with 2 Axes>"
      ]
     },
     "metadata": {
      "needs_background": "light"
     },
     "output_type": "display_data"
    }
   ],
   "source": [
    "skplot.metrics.plot_confusion_matrix(z_true, z_predict,\n",
    "                                    normalize=1)\n",
    "plt.show()"
   ]
  },
  {
   "cell_type": "code",
   "execution_count": 162,
   "id": "4996e146-abb0-442a-b9ab-a96d19dc6f39",
   "metadata": {},
   "outputs": [
    {
     "data": {
      "text/plain": [
       "array([[ 284,    0,  637,   15,   36,  106,   44,   30,  267, 5484],\n",
       "       [  11, 4370,    7,    8, 3451,    3,    9,    7,   11,    0],\n",
       "       [ 457,  368,  155,   45,  468,  271, 4906,   75,  173,   72],\n",
       "       [4593,  417, 1383,  182,   96,   69,  257,   41,   66,   37],\n",
       "       [   0,  112,   13, 1932,  273, 2538,   17, 1785,  150,    4],\n",
       "       [2067,  131, 2163,  359,  813,  208,   20,  329,  154,   69],\n",
       "       [  34,  277,  165,    4,  228,  721,   79,    1, 5277,   90],\n",
       "       [   3,  246,    4, 2711,  292,  603,   42, 3374,    4,   14],\n",
       "       [1603,  294, 3661,  255,  452,  153,   49,  261,   61,   36],\n",
       "       [  92,  148,   57, 2977,   88, 1549,    6, 1994,   10,   37]])"
      ]
     },
     "execution_count": 162,
     "metadata": {},
     "output_type": "execute_result"
    }
   ],
   "source": [
    "conf_mat"
   ]
  },
  {
   "cell_type": "code",
   "execution_count": 163,
   "id": "e9cc4596-a243-4a06-aa40-275d150a86eb",
   "metadata": {},
   "outputs": [
    {
     "data": {
      "text/plain": [
       "array([[4, 0, 7, 6, 0, 1, 9, 6, 7, 1],\n",
       "       [7, 4, 1, 1, 9, 3, 1, 1, 9, 4],\n",
       "       [1, 5, 4, 0, 3, 0, 4, 0, 1, 7],\n",
       "       [6, 9, 9, 2, 6, 8, 5, 3, 8, 8],\n",
       "       [9, 7, 2, 3, 4, 5, 7, 2, 3, 3],\n",
       "       [0, 6, 6, 8, 7, 2, 0, 8, 4, 9],\n",
       "       [2, 8, 0, 5, 8, 7, 8, 5, 5, 5],\n",
       "       [8, 2, 3, 4, 2, 6, 6, 4, 2, 2],\n",
       "       [5, 3, 5, 7, 5, 9, 3, 9, 0, 6],\n",
       "       [3, 1, 8, 9, 1, 4, 2, 7, 6, 0]])"
      ]
     },
     "execution_count": 163,
     "metadata": {},
     "output_type": "execute_result"
    }
   ],
   "source": [
    "np.argsort(conf_mat, axis=0)"
   ]
  },
  {
   "cell_type": "code",
   "execution_count": 164,
   "id": "bac4a56c-ad7d-4854-af08-e2b1ab6773ed",
   "metadata": {},
   "outputs": [
    {
     "data": {
      "text/plain": [
       "array([[ 284,    0,  637,   15,   36,  106,   44,   30,  267, 5484],\n",
       "       [  11, 4370,    7,    8, 3451,    3,    9,    7,   11,    0],\n",
       "       [ 457,  368,  155,   45,  468,  271, 4906,   75,  173,   72],\n",
       "       [4593,  417, 1383,  182,   96,   69,  257,   41,   66,   37],\n",
       "       [   0,  112,   13, 1932,  273, 2538,   17, 1785,  150,    4],\n",
       "       [2067,  131, 2163,  359,  813,  208,   20,  329,  154,   69],\n",
       "       [  34,  277,  165,    4,  228,  721,   79,    1, 5277,   90],\n",
       "       [   3,  246,    4, 2711,  292,  603,   42, 3374,    4,   14],\n",
       "       [1603,  294, 3661,  255,  452,  153,   49,  261,   61,   36],\n",
       "       [  92,  148,   57, 2977,   88, 1549,    6, 1994,   10,   37]])"
      ]
     },
     "execution_count": 164,
     "metadata": {},
     "output_type": "execute_result"
    }
   ],
   "source": [
    "conf_mat"
   ]
  },
  {
   "cell_type": "code",
   "execution_count": 165,
   "id": "ce5bbdff-7547-443f-9b64-876c24f1c90c",
   "metadata": {},
   "outputs": [
    {
     "data": {
      "text/plain": [
       "array([3, 1, 8, 9, 1, 4, 2, 7, 6, 0])"
      ]
     },
     "execution_count": 165,
     "metadata": {},
     "output_type": "execute_result"
    }
   ],
   "source": [
    "np.argmax(conf_mat, axis=0)"
   ]
  },
  {
   "cell_type": "code",
   "execution_count": 166,
   "id": "b2b55abd-5b5a-4c0a-bf9c-d941841c195b",
   "metadata": {},
   "outputs": [
    {
     "data": {
      "text/plain": [
       "array([9, 1, 6, 0, 5, 2, 8, 7, 2, 3])"
      ]
     },
     "execution_count": 166,
     "metadata": {},
     "output_type": "execute_result"
    }
   ],
   "source": [
    "np.argmax(conf_mat, axis=1)"
   ]
  },
  {
   "cell_type": "code",
   "execution_count": 167,
   "id": "6e76bdf9-fdce-484d-ba44-464feb589c3c",
   "metadata": {},
   "outputs": [
    {
     "data": {
      "text/plain": [
       "array([[4, 0, 7, 6, 0, 1, 9, 6, 7, 1],\n",
       "       [7, 4, 1, 1, 9, 3, 1, 1, 9, 4],\n",
       "       [1, 5, 4, 0, 3, 0, 4, 0, 1, 7],\n",
       "       [6, 9, 9, 2, 6, 8, 5, 3, 8, 8],\n",
       "       [9, 7, 2, 3, 4, 5, 7, 2, 3, 3],\n",
       "       [0, 6, 6, 8, 7, 2, 0, 8, 4, 9],\n",
       "       [2, 8, 0, 5, 8, 7, 8, 5, 5, 5],\n",
       "       [8, 2, 3, 4, 2, 6, 6, 4, 2, 2],\n",
       "       [5, 3, 5, 7, 5, 9, 3, 9, 0, 6],\n",
       "       [3, 1, 8, 9, 1, 4, 2, 7, 6, 0]])"
      ]
     },
     "execution_count": 167,
     "metadata": {},
     "output_type": "execute_result"
    }
   ],
   "source": [
    "np.argsort(conf_mat, axis=0)"
   ]
  },
  {
   "cell_type": "code",
   "execution_count": 168,
   "id": "91700f7a-49c8-4afc-998a-80770ff7e5df",
   "metadata": {},
   "outputs": [
    {
     "data": {
      "text/plain": [
       "array([3, 1, 8, 9, 1, 4, 2, 7, 6, 0])"
      ]
     },
     "execution_count": 168,
     "metadata": {},
     "output_type": "execute_result"
    }
   ],
   "source": [
    "np.argsort(conf_mat, axis=0)[-1]"
   ]
  },
  {
   "cell_type": "code",
   "execution_count": 171,
   "id": "5bdb1849-e207-49c5-9d59-0255901eb364",
   "metadata": {},
   "outputs": [
    {
     "ename": "IndexError",
     "evalue": "single positional indexer is out-of-bounds",
     "output_type": "error",
     "traceback": [
      "\u001b[0;31m---------------------------------------------------------------------------\u001b[0m",
      "\u001b[0;31mIndexError\u001b[0m                                Traceback (most recent call last)",
      "Input \u001b[0;32mIn [171]\u001b[0m, in \u001b[0;36m<cell line: 2>\u001b[0;34m()\u001b[0m\n\u001b[1;32m      1\u001b[0m plt\u001b[38;5;241m.\u001b[39mfigure(figsize\u001b[38;5;241m=\u001b[39m(\u001b[38;5;241m4\u001b[39m,\u001b[38;5;241m8\u001b[39m))\n\u001b[1;32m      2\u001b[0m \u001b[38;5;28;01mfor\u001b[39;00m i \u001b[38;5;129;01min\u001b[39;00m \u001b[38;5;28mrange\u001b[39m(\u001b[38;5;241m8\u001b[39m):\n\u001b[0;32m----> 3\u001b[0m     X1 \u001b[38;5;241m=\u001b[39m \u001b[43mX\u001b[49m\u001b[43m[\u001b[49m\u001b[43m(\u001b[49m\u001b[43mz_true\u001b[49m\u001b[38;5;241;43m==\u001b[39;49m\u001b[38;5;241;43m1\u001b[39;49m\u001b[43m)\u001b[49m\u001b[38;5;241;43m&\u001b[39;49m\u001b[43m(\u001b[49m\u001b[43mz_predict\u001b[49m\u001b[38;5;241;43m==\u001b[39;49m\u001b[38;5;241;43m2\u001b[39;49m\u001b[43m)\u001b[49m\u001b[43m]\u001b[49m\u001b[43m  \u001b[49m\u001b[43m\\\u001b[49m\n\u001b[1;32m      4\u001b[0m \u001b[43m        \u001b[49m\u001b[38;5;241;43m.\u001b[39;49m\u001b[43miloc\u001b[49m\u001b[43m[\u001b[49m\u001b[43mi\u001b[49m\u001b[43m]\u001b[49m\u001b[38;5;241m.\u001b[39mto_numpy()\u001b[38;5;241m.\u001b[39mreshape(\u001b[38;5;241m28\u001b[39m,\u001b[38;5;241m28\u001b[39m)\n\u001b[1;32m      5\u001b[0m     X2 \u001b[38;5;241m=\u001b[39m X[(z_true\u001b[38;5;241m==\u001b[39m\u001b[38;5;241m1\u001b[39m)\u001b[38;5;241m&\u001b[39m(z_predict\u001b[38;5;241m==\u001b[39m\u001b[38;5;241m7\u001b[39m)] \\\n\u001b[1;32m      6\u001b[0m         \u001b[38;5;241m.\u001b[39miloc[i]\u001b[38;5;241m.\u001b[39mto_numpy()\u001b[38;5;241m.\u001b[39mreshape(\u001b[38;5;241m28\u001b[39m,\u001b[38;5;241m28\u001b[39m)\n\u001b[1;32m      8\u001b[0m     plt\u001b[38;5;241m.\u001b[39msubplot(\u001b[38;5;241m8\u001b[39m, \u001b[38;5;241m2\u001b[39m, \u001b[38;5;241m1\u001b[39m\u001b[38;5;241m+\u001b[39mi\u001b[38;5;241m*\u001b[39m\u001b[38;5;241m2\u001b[39m, xticks\u001b[38;5;241m=\u001b[39m[], yticks\u001b[38;5;241m=\u001b[39m[])\n",
      "File \u001b[0;32m~/anaconda3/lib/python3.9/site-packages/pandas/core/indexing.py:967\u001b[0m, in \u001b[0;36m_LocationIndexer.__getitem__\u001b[0;34m(self, key)\u001b[0m\n\u001b[1;32m    964\u001b[0m axis \u001b[38;5;241m=\u001b[39m \u001b[38;5;28mself\u001b[39m\u001b[38;5;241m.\u001b[39maxis \u001b[38;5;129;01mor\u001b[39;00m \u001b[38;5;241m0\u001b[39m\n\u001b[1;32m    966\u001b[0m maybe_callable \u001b[38;5;241m=\u001b[39m com\u001b[38;5;241m.\u001b[39mapply_if_callable(key, \u001b[38;5;28mself\u001b[39m\u001b[38;5;241m.\u001b[39mobj)\n\u001b[0;32m--> 967\u001b[0m \u001b[38;5;28;01mreturn\u001b[39;00m \u001b[38;5;28;43mself\u001b[39;49m\u001b[38;5;241;43m.\u001b[39;49m\u001b[43m_getitem_axis\u001b[49m\u001b[43m(\u001b[49m\u001b[43mmaybe_callable\u001b[49m\u001b[43m,\u001b[49m\u001b[43m \u001b[49m\u001b[43maxis\u001b[49m\u001b[38;5;241;43m=\u001b[39;49m\u001b[43maxis\u001b[49m\u001b[43m)\u001b[49m\n",
      "File \u001b[0;32m~/anaconda3/lib/python3.9/site-packages/pandas/core/indexing.py:1520\u001b[0m, in \u001b[0;36m_iLocIndexer._getitem_axis\u001b[0;34m(self, key, axis)\u001b[0m\n\u001b[1;32m   1517\u001b[0m     \u001b[38;5;28;01mraise\u001b[39;00m \u001b[38;5;167;01mTypeError\u001b[39;00m(\u001b[38;5;124m\"\u001b[39m\u001b[38;5;124mCannot index by location index with a non-integer key\u001b[39m\u001b[38;5;124m\"\u001b[39m)\n\u001b[1;32m   1519\u001b[0m \u001b[38;5;66;03m# validate the location\u001b[39;00m\n\u001b[0;32m-> 1520\u001b[0m \u001b[38;5;28;43mself\u001b[39;49m\u001b[38;5;241;43m.\u001b[39;49m\u001b[43m_validate_integer\u001b[49m\u001b[43m(\u001b[49m\u001b[43mkey\u001b[49m\u001b[43m,\u001b[49m\u001b[43m \u001b[49m\u001b[43maxis\u001b[49m\u001b[43m)\u001b[49m\n\u001b[1;32m   1522\u001b[0m \u001b[38;5;28;01mreturn\u001b[39;00m \u001b[38;5;28mself\u001b[39m\u001b[38;5;241m.\u001b[39mobj\u001b[38;5;241m.\u001b[39m_ixs(key, axis\u001b[38;5;241m=\u001b[39maxis)\n",
      "File \u001b[0;32m~/anaconda3/lib/python3.9/site-packages/pandas/core/indexing.py:1452\u001b[0m, in \u001b[0;36m_iLocIndexer._validate_integer\u001b[0;34m(self, key, axis)\u001b[0m\n\u001b[1;32m   1450\u001b[0m len_axis \u001b[38;5;241m=\u001b[39m \u001b[38;5;28mlen\u001b[39m(\u001b[38;5;28mself\u001b[39m\u001b[38;5;241m.\u001b[39mobj\u001b[38;5;241m.\u001b[39m_get_axis(axis))\n\u001b[1;32m   1451\u001b[0m \u001b[38;5;28;01mif\u001b[39;00m key \u001b[38;5;241m>\u001b[39m\u001b[38;5;241m=\u001b[39m len_axis \u001b[38;5;129;01mor\u001b[39;00m key \u001b[38;5;241m<\u001b[39m \u001b[38;5;241m-\u001b[39mlen_axis:\n\u001b[0;32m-> 1452\u001b[0m     \u001b[38;5;28;01mraise\u001b[39;00m \u001b[38;5;167;01mIndexError\u001b[39;00m(\u001b[38;5;124m\"\u001b[39m\u001b[38;5;124msingle positional indexer is out-of-bounds\u001b[39m\u001b[38;5;124m\"\u001b[39m)\n",
      "\u001b[0;31mIndexError\u001b[0m: single positional indexer is out-of-bounds"
     ]
    },
    {
     "data": {
      "image/png": "[encoded data removed]",
      "text/plain": [
       "<Figure size 288x576 with 14 Axes>"
      ]
     },
     "metadata": {},
     "output_type": "display_data"
    }
   ],
   "source": [
    "plt.figure(figsize=(4,8))\n",
    "for i in range(8):\n",
    "    X1 = X[(z_true==1)&(z_predict==2)]  \\\n",
    "        .iloc[i].to_numpy().reshape(28,28)\n",
    "    X2 = X[(z_true==1)&(z_predict==7)] \\\n",
    "        .iloc[i].to_numpy().reshape(28,28)\n",
    "            \n",
    "    plt.subplot(8, 2, 1+i*2, xticks=[], yticks=[])\n",
    "    plt.imshow(X1,cmap='binary')\n",
    "    \n",
    "    plt.subplot(8, 2, 2+i*2, xticks=[], yticks=[])\n",
    "    plt.imshow(X2,cmap='binary')"
   ]
  },
  {
   "cell_type": "markdown",
   "id": "e0945ee5-0c65-470a-a957-228c08fa1902",
   "metadata": {},
   "source": [
    "# กลุ่มแรกตั้งตรง กลุ่มหลังตั้งเฉียงๆ"
   ]
  },
  {
   "cell_type": "code",
   "execution_count": 173,
   "id": "a2801959-bcf0-4562-b80b-15a989c9f7c0",
   "metadata": {},
   "outputs": [
    {
     "data": {
      "text/plain": [
       "(70000, 784)"
      ]
     },
     "execution_count": 173,
     "metadata": {},
     "output_type": "execute_result"
    }
   ],
   "source": [
    "X.shape"
   ]
  },
  {
   "cell_type": "code",
   "execution_count": 174,
   "id": "c0577de9-9ea8-473c-9cf8-e8bfb1ad4cf2",
   "metadata": {},
   "outputs": [],
   "source": [
    "# X[(z_true==1)&(z_predict==2)][0]\n",
    "# X[(z_true==1)&(z_predict==2)].iloc[0].to_numpy()"
   ]
  },
  {
   "cell_type": "code",
   "execution_count": 175,
   "id": "45dcdc71-66cd-44eb-9c8d-e031bad8c6a8",
   "metadata": {},
   "outputs": [
    {
     "data": {
      "text/plain": [
       "array([False, False, False, ..., False, False, False])"
      ]
     },
     "execution_count": 175,
     "metadata": {},
     "output_type": "execute_result"
    }
   ],
   "source": [
    "(z_true==1)&(z_predict==2)"
   ]
  },
  {
   "cell_type": "code",
   "execution_count": 176,
   "id": "6c1328c5-0c1d-454a-9830-53165259e005",
   "metadata": {},
   "outputs": [
    {
     "data": {
      "text/plain": [
       "array([False, False, False, ..., False, False, False])"
      ]
     },
     "execution_count": 176,
     "metadata": {},
     "output_type": "execute_result"
    }
   ],
   "source": [
    "z_true==1"
   ]
  },
  {
   "cell_type": "markdown",
   "id": "a3d38343-3bb6-49c8-b5c3-d0183f19be34",
   "metadata": {},
   "source": [
    "# เทียบกลุ่ม 5, 3, 6"
   ]
  },
  {
   "cell_type": "code",
   "execution_count": 219,
   "id": "c9d31a15-5933-4296-96dd-d3ebfd2d8e90",
   "metadata": {},
   "outputs": [],
   "source": [
    "import math\n",
    "\n",
    "def callSubplot(i):\n",
    "    temp = 0\n",
    "    temp = i/2+1 if i%2==0 else temp\n",
    "    step = int(temp)\n",
    "    # step \n",
    "    plt.subplot(8, 4, step+i*4, \n",
    "               xticks=[],\n",
    "               yticks=[])\n",
    "def getXByCond(a, b, i):\n",
    "    callSubplot(i)\n",
    "    return X[(z_true==a)&(z_predict==b)] \\\n",
    "        .iloc[i].to_numpy() \\\n",
    "        .reshape(28,28)"
   ]
  },
  {
   "cell_type": "code",
   "execution_count": 220,
   "id": "350452e4-9a14-4d94-9775-b461a3c99f65",
   "metadata": {},
   "outputs": [
    {
     "data": {
      "image/png": "[encoded data removed]",
      "text/plain": [
       "<Figure size 288x576 with 7 Axes>"
      ]
     },
     "metadata": {},
     "output_type": "display_data"
    }
   ],
   "source": [
    "plt.figure(figsize=(4,8))\n",
    "\n",
    "for i in range(8):\n",
    "    # plt.subplot()\n",
    "    plt.imshow(getXByCond(5, 0, i), cmap=\"Reds\")\n",
    "    plt.imshow(getXByCond(3, 0, i), cmap=\"Reds\")\n",
    "    plt.imshow(getXByCond(5, 1, i), cmap=\"Greens\")\n",
    "    plt.imshow(getXByCond(6, 1, i), cmap=\"Greens\")\n",
    "plt.show()"
   ]
  },
  {
   "cell_type": "code",
   "execution_count": 211,
   "id": "ceeaa928-8452-4eb0-a1e6-9150fba7db91",
   "metadata": {},
   "outputs": [
    {
     "name": "stdout",
     "output_type": "stream",
     "text": [
      "1.0\n",
      "1.0\n",
      "2.0\n",
      "2.0\n",
      "3.0\n",
      "3.0\n",
      "4.0\n",
      "4.0\n"
     ]
    }
   ],
   "source": [
    "for i in range(8):\n",
    "    if i % 2 == 0: \n",
    "        # temp = i/2 \n",
    "        temp = i/2 + 1\n",
    "        print(temp)\n",
    "    else:\n",
    "        print(temp)\n",
    "        "
   ]
  },
  {
   "cell_type": "code",
   "execution_count": 221,
   "id": "3e10fed9-2a77-4b65-94a3-5c0a8df6c80e",
   "metadata": {},
   "outputs": [
    {
     "name": "stdout",
     "output_type": "stream",
     "text": [
      "1\n",
      "1\n",
      "2\n",
      "2\n",
      "3\n",
      "3\n",
      "4\n",
      "4\n"
     ]
    }
   ],
   "source": [
    "for i in range(8):\n",
    "    temp = i/2+1 if i%2==0 else temp\n",
    "    print(int(temp))"
   ]
  },
  {
   "cell_type": "code",
   "execution_count": 224,
   "id": "847ef43b-5ad6-4e33-ae10-fe61fec7482c",
   "metadata": {},
   "outputs": [
    {
     "data": {
      "text/html": [
       "<div>\n",
       "<style scoped>\n",
       "    .dataframe tbody tr th:only-of-type {\n",
       "        vertical-align: middle;\n",
       "    }\n",
       "\n",
       "    .dataframe tbody tr th {\n",
       "        vertical-align: top;\n",
       "    }\n",
       "\n",
       "    .dataframe thead th {\n",
       "        text-align: right;\n",
       "    }\n",
       "</style>\n",
       "<table border=\"1\" class=\"dataframe\">\n",
       "  <thead>\n",
       "    <tr style=\"text-align: right;\">\n",
       "      <th></th>\n",
       "      <th>pixel1</th>\n",
       "      <th>pixel2</th>\n",
       "      <th>pixel3</th>\n",
       "      <th>pixel4</th>\n",
       "      <th>pixel5</th>\n",
       "      <th>pixel6</th>\n",
       "      <th>pixel7</th>\n",
       "      <th>pixel8</th>\n",
       "      <th>pixel9</th>\n",
       "      <th>pixel10</th>\n",
       "      <th>...</th>\n",
       "      <th>pixel775</th>\n",
       "      <th>pixel776</th>\n",
       "      <th>pixel777</th>\n",
       "      <th>pixel778</th>\n",
       "      <th>pixel779</th>\n",
       "      <th>pixel780</th>\n",
       "      <th>pixel781</th>\n",
       "      <th>pixel782</th>\n",
       "      <th>pixel783</th>\n",
       "      <th>pixel784</th>\n",
       "    </tr>\n",
       "  </thead>\n",
       "  <tbody>\n",
       "    <tr>\n",
       "      <th>1</th>\n",
       "      <td>0.0</td>\n",
       "      <td>0.0</td>\n",
       "      <td>0.0</td>\n",
       "      <td>0.0</td>\n",
       "      <td>0.0</td>\n",
       "      <td>0.0</td>\n",
       "      <td>0.0</td>\n",
       "      <td>0.0</td>\n",
       "      <td>0.0</td>\n",
       "      <td>0.0</td>\n",
       "      <td>...</td>\n",
       "      <td>0.0</td>\n",
       "      <td>0.0</td>\n",
       "      <td>0.0</td>\n",
       "      <td>0.0</td>\n",
       "      <td>0.0</td>\n",
       "      <td>0.0</td>\n",
       "      <td>0.0</td>\n",
       "      <td>0.0</td>\n",
       "      <td>0.0</td>\n",
       "      <td>0.0</td>\n",
       "    </tr>\n",
       "    <tr>\n",
       "      <th>3</th>\n",
       "      <td>0.0</td>\n",
       "      <td>0.0</td>\n",
       "      <td>0.0</td>\n",
       "      <td>0.0</td>\n",
       "      <td>0.0</td>\n",
       "      <td>0.0</td>\n",
       "      <td>0.0</td>\n",
       "      <td>0.0</td>\n",
       "      <td>0.0</td>\n",
       "      <td>0.0</td>\n",
       "      <td>...</td>\n",
       "      <td>0.0</td>\n",
       "      <td>0.0</td>\n",
       "      <td>0.0</td>\n",
       "      <td>0.0</td>\n",
       "      <td>0.0</td>\n",
       "      <td>0.0</td>\n",
       "      <td>0.0</td>\n",
       "      <td>0.0</td>\n",
       "      <td>0.0</td>\n",
       "      <td>0.0</td>\n",
       "    </tr>\n",
       "    <tr>\n",
       "      <th>6</th>\n",
       "      <td>0.0</td>\n",
       "      <td>0.0</td>\n",
       "      <td>0.0</td>\n",
       "      <td>0.0</td>\n",
       "      <td>0.0</td>\n",
       "      <td>0.0</td>\n",
       "      <td>0.0</td>\n",
       "      <td>0.0</td>\n",
       "      <td>0.0</td>\n",
       "      <td>0.0</td>\n",
       "      <td>...</td>\n",
       "      <td>0.0</td>\n",
       "      <td>0.0</td>\n",
       "      <td>0.0</td>\n",
       "      <td>0.0</td>\n",
       "      <td>0.0</td>\n",
       "      <td>0.0</td>\n",
       "      <td>0.0</td>\n",
       "      <td>0.0</td>\n",
       "      <td>0.0</td>\n",
       "      <td>0.0</td>\n",
       "    </tr>\n",
       "    <tr>\n",
       "      <th>8</th>\n",
       "      <td>0.0</td>\n",
       "      <td>0.0</td>\n",
       "      <td>0.0</td>\n",
       "      <td>0.0</td>\n",
       "      <td>0.0</td>\n",
       "      <td>0.0</td>\n",
       "      <td>0.0</td>\n",
       "      <td>0.0</td>\n",
       "      <td>0.0</td>\n",
       "      <td>0.0</td>\n",
       "      <td>...</td>\n",
       "      <td>0.0</td>\n",
       "      <td>0.0</td>\n",
       "      <td>0.0</td>\n",
       "      <td>0.0</td>\n",
       "      <td>0.0</td>\n",
       "      <td>0.0</td>\n",
       "      <td>0.0</td>\n",
       "      <td>0.0</td>\n",
       "      <td>0.0</td>\n",
       "      <td>0.0</td>\n",
       "    </tr>\n",
       "    <tr>\n",
       "      <th>14</th>\n",
       "      <td>0.0</td>\n",
       "      <td>0.0</td>\n",
       "      <td>0.0</td>\n",
       "      <td>0.0</td>\n",
       "      <td>0.0</td>\n",
       "      <td>0.0</td>\n",
       "      <td>0.0</td>\n",
       "      <td>0.0</td>\n",
       "      <td>0.0</td>\n",
       "      <td>0.0</td>\n",
       "      <td>...</td>\n",
       "      <td>0.0</td>\n",
       "      <td>0.0</td>\n",
       "      <td>0.0</td>\n",
       "      <td>0.0</td>\n",
       "      <td>0.0</td>\n",
       "      <td>0.0</td>\n",
       "      <td>0.0</td>\n",
       "      <td>0.0</td>\n",
       "      <td>0.0</td>\n",
       "      <td>0.0</td>\n",
       "    </tr>\n",
       "  </tbody>\n",
       "</table>\n",
       "<p>5 rows × 784 columns</p>\n",
       "</div>"
      ],
      "text/plain": [
       "    pixel1  pixel2  pixel3  pixel4  pixel5  pixel6  pixel7  pixel8  pixel9  \\\n",
       "1      0.0     0.0     0.0     0.0     0.0     0.0     0.0     0.0     0.0   \n",
       "3      0.0     0.0     0.0     0.0     0.0     0.0     0.0     0.0     0.0   \n",
       "6      0.0     0.0     0.0     0.0     0.0     0.0     0.0     0.0     0.0   \n",
       "8      0.0     0.0     0.0     0.0     0.0     0.0     0.0     0.0     0.0   \n",
       "14     0.0     0.0     0.0     0.0     0.0     0.0     0.0     0.0     0.0   \n",
       "\n",
       "    pixel10  ...  pixel775  pixel776  pixel777  pixel778  pixel779  pixel780  \\\n",
       "1       0.0  ...       0.0       0.0       0.0       0.0       0.0       0.0   \n",
       "3       0.0  ...       0.0       0.0       0.0       0.0       0.0       0.0   \n",
       "6       0.0  ...       0.0       0.0       0.0       0.0       0.0       0.0   \n",
       "8       0.0  ...       0.0       0.0       0.0       0.0       0.0       0.0   \n",
       "14      0.0  ...       0.0       0.0       0.0       0.0       0.0       0.0   \n",
       "\n",
       "    pixel781  pixel782  pixel783  pixel784  \n",
       "1        0.0       0.0       0.0       0.0  \n",
       "3        0.0       0.0       0.0       0.0  \n",
       "6        0.0       0.0       0.0       0.0  \n",
       "8        0.0       0.0       0.0       0.0  \n",
       "14       0.0       0.0       0.0       0.0  \n",
       "\n",
       "[5 rows x 784 columns]"
      ]
     },
     "execution_count": 224,
     "metadata": {},
     "output_type": "execute_result"
    }
   ],
   "source": [
    "X01 = X[z_true < 2]\n",
    "X01.head()"
   ]
  },
  {
   "cell_type": "code",
   "execution_count": 225,
   "id": "6a5bd421-b02f-4b88-a611-56f8a1b33c22",
   "metadata": {},
   "outputs": [],
   "source": [
    "z01 = z_true[z_true<2]"
   ]
  },
  {
   "cell_type": "code",
   "execution_count": null,
   "id": "4396f0a8-07e2-4f07-a7aa-b469c433254f",
   "metadata": {},
   "outputs": [],
   "source": [
    "np.random.seed(23)"
   ]
  }
 ],
 "metadata": {
  "kernelspec": {
   "display_name": "Python 3 (ipykernel)",
   "language": "python",
   "name": "python3"
  },
  "language_info": {
   "codemirror_mode": {
    "name": "ipython",
    "version": 3
   },
   "file_extension": ".py",
   "mimetype": "text/x-python",
   "name": "python",
   "nbconvert_exporter": "python",
   "pygments_lexer": "ipython3",
   "version": "3.9.12"
  }
 },
 "nbformat": 4,
 "nbformat_minor": 5
}
