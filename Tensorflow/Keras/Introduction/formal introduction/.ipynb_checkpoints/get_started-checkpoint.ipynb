{
 "cells": [
  {
   "cell_type": "code",
   "execution_count": 4,
   "id": "27c6bf40-1d13-492d-bb56-b203e6faa7a0",
   "metadata": {},
   "outputs": [],
   "source": [
    "import numpy as np\n",
    "import keras\n",
    "import tensorflow as tf"
   ]
  },
  {
   "cell_type": "code",
   "execution_count": 5,
   "id": "b800d608-470c-40af-9cc6-d7eb68223dda",
   "metadata": {},
   "outputs": [],
   "source": [
    "# datasets = keras.preprocessing.image_dataset.image_dataset_from_directory(\n",
    "# './../../ML-examples-projects/emojis/', batch_size=64 )"
   ]
  },
  {
   "cell_type": "code",
   "execution_count": 6,
   "id": "c4ebbfb6-6c99-404b-a3d7-59e477566fd8",
   "metadata": {},
   "outputs": [
    {
     "name": "stderr",
     "output_type": "stream",
     "text": [
      "2022-05-09 22:47:27.400733: W tensorflow/stream_executor/platform/default/dso_loader.cc:64] Could not load dynamic library 'libcuda.so.1'; dlerror: libcuda.so.1: cannot open shared object file: No such file or directory\n",
      "2022-05-09 22:47:27.400764: W tensorflow/stream_executor/cuda/cuda_driver.cc:269] failed call to cuInit: UNKNOWN ERROR (303)\n",
      "2022-05-09 22:47:27.400788: I tensorflow/stream_executor/cuda/cuda_diagnostics.cc:156] kernel driver does not appear to be running on this host (liberio-X550JX): /proc/driver/nvidia/version does not exist\n",
      "2022-05-09 22:47:27.437757: I tensorflow/core/platform/cpu_feature_guard.cc:151] This TensorFlow binary is optimized with oneAPI Deep Neural Network Library (oneDNN) to use the following CPU instructions in performance-critical operations:  AVX2 FMA\n",
      "To enable them in other operations, rebuild TensorFlow with the appropriate compiler flags.\n"
     ]
    },
    {
     "data": {
      "text/plain": [
       "['', '[UNK]', 'the', 'sample', 'this', 'is', 'heres', 'and', '2nd', '1st']"
      ]
     },
     "execution_count": 6,
     "metadata": {},
     "output_type": "execute_result"
    }
   ],
   "source": [
    "training_data = np.array([[\"This is the 1st sample.\"], [\"And here's the 2nd sample.\"]])\n",
    "\n",
    "vectorizer = tf.keras.layers.TextVectorization(output_mode='int')\n",
    "vectorizer.adapt(training_data)\n",
    "vectorizer.get_vocabulary()"
   ]
  },
  {
   "cell_type": "markdown",
   "id": "874aec7e-072c-497b-9cd8-c0c7684997ff",
   "metadata": {},
   "source": [
    "# Preprocessing (dummy data)\n",
    "##  turning strings into sequences of integer word indices"
   ]
  },
  {
   "cell_type": "code",
   "execution_count": 7,
   "id": "e4287ac1-5ff4-4f04-86af-91e003d3e98a",
   "metadata": {},
   "outputs": [
    {
     "data": {
      "text/plain": [
       "<tf.Tensor: shape=(2, 5), dtype=int64, numpy=\n",
       "array([[4, 5, 2, 9, 3],\n",
       "       [7, 6, 2, 8, 3]])>"
      ]
     },
     "execution_count": 7,
     "metadata": {},
     "output_type": "execute_result"
    }
   ],
   "source": [
    "integer_data = vectorizer(training_data)\n",
    "integer_data"
   ]
  },
  {
   "cell_type": "markdown",
   "id": "1d0ebb6e-e115-4e83-b087-371f8b3e00f4",
   "metadata": {},
   "source": [
    "## turning strings into sequences of one-hot encoded bigrams"
   ]
  },
  {
   "cell_type": "code",
   "execution_count": 8,
   "id": "ac6cd4fd-5f43-4775-a1b4-734941f7262a",
   "metadata": {},
   "outputs": [
    {
     "data": {
      "text/plain": [
       "['[UNK]',\n",
       " 'the',\n",
       " 'sample',\n",
       " 'this is',\n",
       " 'this',\n",
       " 'the 2nd',\n",
       " 'the 1st',\n",
       " 'is the',\n",
       " 'is',\n",
       " 'heres the',\n",
       " 'heres',\n",
       " 'and heres',\n",
       " 'and',\n",
       " '2nd sample',\n",
       " '2nd',\n",
       " '1st sample',\n",
       " '1st']"
      ]
     },
     "execution_count": 8,
     "metadata": {},
     "output_type": "execute_result"
    }
   ],
   "source": [
    "vectorizer = tf.keras.layers.TextVectorization(output_mode='binary', ngrams=2)\n",
    "vectorizer.adapt(training_data)\n",
    "vectorizer.get_vocabulary()"
   ]
  },
  {
   "cell_type": "code",
   "execution_count": 9,
   "id": "4a4b1103-c1e6-4779-9610-20fdb75cbd3a",
   "metadata": {},
   "outputs": [
    {
     "data": {
      "text/plain": [
       "<tf.Tensor: shape=(2, 17), dtype=float32, numpy=\n",
       "array([[0., 1., 1., 1., 1., 0., 1., 1., 1., 0., 0., 0., 0., 0., 0., 1.,\n",
       "        1.],\n",
       "       [0., 1., 1., 0., 0., 1., 0., 0., 0., 1., 1., 1., 1., 1., 1., 0.,\n",
       "        0.]], dtype=float32)>"
      ]
     },
     "execution_count": 9,
     "metadata": {},
     "output_type": "execute_result"
    }
   ],
   "source": [
    "integer_data = vectorizer(training_data)\n",
    "integer_data"
   ]
  },
  {
   "cell_type": "markdown",
   "id": "e87b5013-131b-4891-b8aa-41de8e93e35b",
   "metadata": {},
   "source": [
    "# Normalizing feautures"
   ]
  },
  {
   "cell_type": "code",
   "execution_count": 10,
   "id": "1698402d-06b5-4b08-827a-5d37017a0885",
   "metadata": {},
   "outputs": [
    {
     "data": {
      "text/plain": [
       "array([[[ 27., 245., 252.],\n",
       "        [224., 183., 204.],\n",
       "        [  3., 199., 134.],\n",
       "        ...,\n",
       "        [112., 146., 219.],\n",
       "        [ 32., 112., 172.],\n",
       "        [146., 128.,  18.]],\n",
       "\n",
       "       [[244.,  21., 195.],\n",
       "        [154., 147.,   7.],\n",
       "        [146.,  31., 207.],\n",
       "        ...,\n",
       "        [248., 240.,  16.],\n",
       "        [ 71., 182.,  10.],\n",
       "        [230.,  68.,  89.]],\n",
       "\n",
       "       [[177.,   5.,  94.],\n",
       "        [106., 188., 217.],\n",
       "        [ 75., 167., 118.],\n",
       "        ...,\n",
       "        [ 92., 120., 108.],\n",
       "        [ 27.,  72., 100.],\n",
       "        [131., 141.,  64.]],\n",
       "\n",
       "       ...,\n",
       "\n",
       "       [[ 32.,   8.,  59.],\n",
       "        [157., 174., 182.],\n",
       "        [143., 102., 154.],\n",
       "        ...,\n",
       "        [ 99., 101.,  42.],\n",
       "        [176., 168., 118.],\n",
       "        [ 76., 214., 166.]],\n",
       "\n",
       "       [[ 49., 172., 217.],\n",
       "        [215., 195.,  63.],\n",
       "        [118.,  65.,  64.],\n",
       "        ...,\n",
       "        [160., 209.,  66.],\n",
       "        [160.,  87., 146.],\n",
       "        [237.,  98.,   1.]],\n",
       "\n",
       "       [[ 93.,  27., 147.],\n",
       "        [111., 189., 149.],\n",
       "        [133., 200., 205.],\n",
       "        ...,\n",
       "        [154.,  36., 104.],\n",
       "        [174.,  31., 221.],\n",
       "        [227., 187.,  74.]]], dtype=float32)"
      ]
     },
     "execution_count": 10,
     "metadata": {},
     "output_type": "execute_result"
    }
   ],
   "source": [
    "training_data = np.random.randint(low=0, high=256,\n",
    "                                 size=(64, 200, 200, 3)).astype('float32')\n",
    "training_data[0] # 64 samples , 200x200 wh, 3 colors"
   ]
  },
  {
   "cell_type": "code",
   "execution_count": 11,
   "id": "3568b50c-a3a4-42cf-96fa-3188fc98c9da",
   "metadata": {},
   "outputs": [
    {
     "name": "stderr",
     "output_type": "stream",
     "text": [
      "2022-05-09 22:47:31.464879: W tensorflow/core/framework/cpu_allocator_impl.cc:82] Allocation of 30720000 exceeds 10% of free system memory.\n",
      "2022-05-09 22:47:31.808204: W tensorflow/core/framework/cpu_allocator_impl.cc:82] Allocation of 15360000 exceeds 10% of free system memory.\n",
      "2022-05-09 22:47:31.808250: W tensorflow/core/framework/cpu_allocator_impl.cc:82] Allocation of 15360000 exceeds 10% of free system memory.\n"
     ]
    },
    {
     "data": {
      "text/plain": [
       "<keras.layers.preprocessing.normalization.Normalization at 0x7f83597cfcd0>"
      ]
     },
     "execution_count": 11,
     "metadata": {},
     "output_type": "execute_result"
    }
   ],
   "source": [
    "normalizer = tf.keras.layers.Normalization(axis=-1)\n",
    "normalizer.adapt(training_data)\n",
    "normalizer"
   ]
  },
  {
   "cell_type": "code",
   "execution_count": 12,
   "id": "6971612c-4b78-4c0d-8d1b-3440d138eab3",
   "metadata": {},
   "outputs": [
    {
     "data": {
      "text/plain": [
       "[array([127.458145, 127.50255 , 127.4897  ], dtype=float32),\n",
       " array([5455.5312, 5448.996 , 5454.7793], dtype=float32),\n",
       " 2560000]"
      ]
     },
     "execution_count": 12,
     "metadata": {},
     "output_type": "execute_result"
    }
   ],
   "source": [
    "normalizer.get_weights()"
   ]
  },
  {
   "cell_type": "code",
   "execution_count": 13,
   "id": "b4f99174-120e-4586-81d0-99f5f423c29f",
   "metadata": {},
   "outputs": [
    {
     "name": "stderr",
     "output_type": "stream",
     "text": [
      "2022-05-09 22:47:32.356660: W tensorflow/core/framework/cpu_allocator_impl.cc:82] Allocation of 30720000 exceeds 10% of free system memory.\n",
      "2022-05-09 22:47:32.376795: W tensorflow/core/framework/cpu_allocator_impl.cc:82] Allocation of 30720000 exceeds 10% of free system memory.\n"
     ]
    },
    {
     "data": {
      "text/plain": [
       "<tf.Tensor: shape=(4, 3), dtype=float32, numpy=\n",
       "array([[-1.3600869 ,  1.591733  ,  1.6858413 ],\n",
       "       [ 1.3070649 ,  0.75182164,  1.0359322 ],\n",
       "       [-1.685019  ,  0.9685729 ,  0.08814799],\n",
       "       [-1.4007034 ,  0.58925813, -0.72423846]], dtype=float32)>"
      ]
     },
     "execution_count": 13,
     "metadata": {},
     "output_type": "execute_result"
    }
   ],
   "source": [
    "normalized_data = normalizer(training_data)\n",
    "normalized_data[0,0,:4]"
   ]
  },
  {
   "cell_type": "code",
   "execution_count": 14,
   "id": "83475782-6517-45c2-9a76-9c90b3058f64",
   "metadata": {},
   "outputs": [
    {
     "name": "stdout",
     "output_type": "stream",
     "text": [
      "variant : 1.00\n",
      "mean : -0.00\n"
     ]
    }
   ],
   "source": [
    "print('variant : %.2f' % np.var(normalized_data))\n",
    "print('mean : %.2f' % np.mean(normalized_data))"
   ]
  },
  {
   "cell_type": "code",
   "execution_count": 15,
   "id": "599f850b-9cd4-4383-b2b1-16e7826c3f4c",
   "metadata": {},
   "outputs": [
    {
     "data": {
      "text/plain": [
       "(64, 200, 200, 3)"
      ]
     },
     "execution_count": 15,
     "metadata": {},
     "output_type": "execute_result"
    }
   ],
   "source": [
    "training_data.shape"
   ]
  },
  {
   "cell_type": "code",
   "execution_count": 16,
   "id": "807d0c48-e6ed-4de7-9249-10ff15b987b5",
   "metadata": {},
   "outputs": [],
   "source": [
    "cropper = tf.keras.layers.CenterCrop(height=150, width=150)\n",
    "scaler = tf.keras.layers.Rescaling(scale=1/255)\n",
    "\n",
    "output_data = scaler(cropper(training_data)) # no need .adapt \n",
    "# it's stateless ?\n",
    "# output_data"
   ]
  },
  {
   "cell_type": "code",
   "execution_count": 17,
   "id": "0a0e05b5-8a0d-42a2-b239-b4f422015d95",
   "metadata": {},
   "outputs": [
    {
     "name": "stdout",
     "output_type": "stream",
     "text": [
      "(64, 150, 150, 3)\n"
     ]
    }
   ],
   "source": [
    "print(output_data.shape)"
   ]
  },
  {
   "cell_type": "code",
   "execution_count": 18,
   "id": "074ce8f5-8a21-4604-a975-af3536399e36",
   "metadata": {},
   "outputs": [
    {
     "name": "stdout",
     "output_type": "stream",
     "text": [
      "0.0\n"
     ]
    }
   ],
   "source": [
    "print(np.min(output_data))"
   ]
  },
  {
   "cell_type": "code",
   "execution_count": 19,
   "id": "cfe6bc6e-72e3-42f5-9374-f82ba15f4df1",
   "metadata": {},
   "outputs": [
    {
     "name": "stdout",
     "output_type": "stream",
     "text": [
      "1.0\n"
     ]
    }
   ],
   "source": [
    "print(np.max(output_data))"
   ]
  },
  {
   "cell_type": "markdown",
   "id": "c2776226-65cc-4da9-abc8-f0d2733405e6",
   "metadata": {},
   "source": [
    "# Building Model"
   ]
  },
  {
   "cell_type": "code",
   "execution_count": 20,
   "id": "e0b9ee21-e758-4e9a-a315-aec3e9e8cc6d",
   "metadata": {},
   "outputs": [],
   "source": [
    "dense = keras.layers.Dense(units=16) # 16 features"
   ]
  },
  {
   "cell_type": "code",
   "execution_count": 21,
   "id": "0c773d43-a144-4c37-a476-96ed56e251a4",
   "metadata": {},
   "outputs": [],
   "source": [
    "inputs = keras.Input(shape=(None, None, 3)) # recieve any width, height, but must have 3 hues"
   ]
  },
  {
   "cell_type": "code",
   "execution_count": 22,
   "id": "41782512-d9a3-42bf-8512-afefc1d15284",
   "metadata": {},
   "outputs": [],
   "source": [
    "from tensorflow.keras import layers\n",
    "x = layers.CenterCrop(height=150, width=150)(inputs) # crop any size squeeze to 150x150\n",
    "x = layers.Rescaling(scale=1/255)(x) # divide inner value by 255\n",
    "\n",
    "# apply conv & pool layers\n",
    "x = layers.Conv2D(filters=32, kernel_size=(3,3), activation='relu')(x)\n",
    "x = layers.MaxPooling2D(pool_size=(3,3))(x)\n",
    "x = layers.Conv2D(filters=32, kernel_size=(3,3), activation='relu')(x)\n",
    "x = layers.MaxPooling2D(pool_size=(3,3))(x)\n",
    "x = layers.Conv2D(filters=32, kernel_size=(3,3), activation='relu')(x)\n",
    "\n",
    "x = layers.GlobalAveragePooling2D()(x)\n",
    "\n",
    "\n",
    "num_classes = 10\n",
    "outputs = layers.Dense(num_classes, activation='softmax')(x)\n"
   ]
  },
  {
   "cell_type": "code",
   "execution_count": 23,
   "id": "596d6174-15a4-4ca9-970a-73acfd2429b9",
   "metadata": {},
   "outputs": [],
   "source": [
    "model = keras.Model(inputs=inputs, outputs=outputs)"
   ]
  },
  {
   "cell_type": "markdown",
   "id": "16f77dc5-ff87-4e91-a70c-c897f35fd6b4",
   "metadata": {},
   "source": [
    "# ???"
   ]
  },
  {
   "cell_type": "code",
   "execution_count": 24,
   "id": "d3ba6b2c-9873-4af6-bfd6-8e4d2bd3ecf0",
   "metadata": {},
   "outputs": [],
   "source": [
    "data = np.random.randint(low=0, high=256,\n",
    "                                 size=(64, 200, 200, 3)).astype('float32')"
   ]
  },
  {
   "cell_type": "code",
   "execution_count": 25,
   "id": "eb1339fe-2186-4dea-8dac-be0643ed3a2a",
   "metadata": {},
   "outputs": [
    {
     "name": "stdout",
     "output_type": "stream",
     "text": [
      "(64, 10)\n"
     ]
    }
   ],
   "source": [
    "processed_data = model(data)\n",
    "print(processed_data.shape) # 10 = num_classes"
   ]
  },
  {
   "cell_type": "code",
   "execution_count": 26,
   "id": "5bb3a1c6-afba-4b0e-a734-3f2c8a06dd5d",
   "metadata": {},
   "outputs": [
    {
     "data": {
      "text/plain": [
       "<tf.Tensor: shape=(10,), dtype=float32, numpy=\n",
       "array([0.08002478, 0.09929966, 0.08410589, 0.12116137, 0.09805974,\n",
       "       0.07213479, 0.13644777, 0.08836554, 0.10376233, 0.11663806],\n",
       "      dtype=float32)>"
      ]
     },
     "execution_count": 26,
     "metadata": {},
     "output_type": "execute_result"
    }
   ],
   "source": [
    "processed_data[0]"
   ]
  },
  {
   "cell_type": "code",
   "execution_count": 27,
   "id": "7c4bd4d4-c954-4fc9-9917-6ee4c1992cd7",
   "metadata": {},
   "outputs": [
    {
     "name": "stdout",
     "output_type": "stream",
     "text": [
      "Model: \"model\"\n",
      "_________________________________________________________________\n",
      " Layer (type)                Output Shape              Param #   \n",
      "=================================================================\n",
      " input_1 (InputLayer)        [(None, None, None, 3)]   0         \n",
      "                                                                 \n",
      " center_crop_1 (CenterCrop)  (None, 150, 150, 3)       0         \n",
      "                                                                 \n",
      " rescaling_1 (Rescaling)     (None, 150, 150, 3)       0         \n",
      "                                                                 \n",
      " conv2d (Conv2D)             (None, 148, 148, 32)      896       \n",
      "                                                                 \n",
      " max_pooling2d (MaxPooling2D  (None, 49, 49, 32)       0         \n",
      " )                                                               \n",
      "                                                                 \n",
      " conv2d_1 (Conv2D)           (None, 47, 47, 32)        9248      \n",
      "                                                                 \n",
      " max_pooling2d_1 (MaxPooling  (None, 15, 15, 32)       0         \n",
      " 2D)                                                             \n",
      "                                                                 \n",
      " conv2d_2 (Conv2D)           (None, 13, 13, 32)        9248      \n",
      "                                                                 \n",
      " global_average_pooling2d (G  (None, 32)               0         \n",
      " lobalAveragePooling2D)                                          \n",
      "                                                                 \n",
      " dense_1 (Dense)             (None, 10)                330       \n",
      "                                                                 \n",
      "=================================================================\n",
      "Total params: 19,722\n",
      "Trainable params: 19,722\n",
      "Non-trainable params: 0\n",
      "_________________________________________________________________\n"
     ]
    }
   ],
   "source": [
    "model.summary()"
   ]
  },
  {
   "cell_type": "markdown",
   "id": "02eb8cec-f89f-464f-a31f-8286febdc00c",
   "metadata": {},
   "source": [
    "# Train model"
   ]
  },
  {
   "cell_type": "code",
   "execution_count": 29,
   "id": "cf358044-7214-446a-8370-7700f871c860",
   "metadata": {},
   "outputs": [],
   "source": [
    "model.compile(optimizer=keras.optimizers.rmsprop_v2.RMSprop(learning_rate=1e-3),\n",
    "             loss=keras.losses.CategoricalCrossentropy())\n"
   ]
  },
  {
   "cell_type": "code",
   "execution_count": 31,
   "id": "f1725894-0d12-4e70-86d1-0217d0223d36",
   "metadata": {},
   "outputs": [],
   "source": [
    "# model.fit()"
   ]
  },
  {
   "cell_type": "markdown",
   "id": "4e30c61f-9348-4f33-be5d-7ee58373ef51",
   "metadata": {},
   "source": [
    "# Mnist exmaple"
   ]
  },
  {
   "cell_type": "code",
   "execution_count": 32,
   "id": "15f80ac2-f3ff-4fc6-84eb-f89fb7e92a75",
   "metadata": {},
   "outputs": [],
   "source": [
    "(X_train, y_train), (X_test, y_test) = keras.datasets.mnist.load_data()"
   ]
  },
  {
   "cell_type": "code",
   "execution_count": 33,
   "id": "316fac66-1b1b-42f6-96c2-e92ea0b9056d",
   "metadata": {},
   "outputs": [
    {
     "data": {
      "text/plain": [
       "(60000, 28, 28)"
      ]
     },
     "execution_count": 33,
     "metadata": {},
     "output_type": "execute_result"
    }
   ],
   "source": [
    "X_train.shape"
   ]
  },
  {
   "cell_type": "code",
   "execution_count": 34,
   "id": "8cd47bca-b251-48b9-a64a-50590a6d22e5",
   "metadata": {},
   "outputs": [
    {
     "name": "stdout",
     "output_type": "stream",
     "text": [
      "Model: \"model_1\"\n",
      "_________________________________________________________________\n",
      " Layer (type)                Output Shape              Param #   \n",
      "=================================================================\n",
      " input_2 (InputLayer)        [(None, 28, 28)]          0         \n",
      "                                                                 \n",
      " rescaling_2 (Rescaling)     (None, 28, 28)            0         \n",
      "                                                                 \n",
      " flatten (Flatten)           (None, 784)               0         \n",
      "                                                                 \n",
      " dense_2 (Dense)             (None, 128)               100480    \n",
      "                                                                 \n",
      " dense_3 (Dense)             (None, 128)               16512     \n",
      "                                                                 \n",
      " dense_4 (Dense)             (None, 10)                1290      \n",
      "                                                                 \n",
      "=================================================================\n",
      "Total params: 118,282\n",
      "Trainable params: 118,282\n",
      "Non-trainable params: 0\n",
      "_________________________________________________________________\n"
     ]
    }
   ],
   "source": [
    "# Build simple model\n",
    "inputs = keras.Input(shape=(28,28))\n",
    "x = layers.Rescaling(scale=1/255)(inputs)\n",
    "x = layers.Flatten()(x)\n",
    "x = layers.Dense(128, activation='relu')(x)\n",
    "x = layers.Dense(128, activation='relu')(x)\n",
    "outputs = layers.Dense(10, activation='softmax')(x)\n",
    "model = keras.Model(inputs, outputs)\n",
    "model.summary()"
   ]
  },
  {
   "cell_type": "code",
   "execution_count": 35,
   "id": "1ec311d4-87a4-4242-b902-de0f70739ede",
   "metadata": {},
   "outputs": [],
   "source": [
    "model.compile(optimizer='adam', loss='sparse_categorical_crossentropy')\n"
   ]
  },
  {
   "cell_type": "code",
   "execution_count": 37,
   "id": "faf655ce-6831-4863-9a76-65da3c42f0e5",
   "metadata": {},
   "outputs": [
    {
     "name": "stdout",
     "output_type": "stream",
     "text": [
      "938/938 [==============================] - 6s 3ms/step - loss: 0.2627\n"
     ]
    }
   ],
   "source": [
    "# train model from numpy data\n",
    "history = model.fit(X_train, y_train, batch_size=64, epochs=1)"
   ]
  },
  {
   "cell_type": "code",
   "execution_count": 38,
   "id": "9e7cd990-c7af-40fd-a85b-83bead5eb7d2",
   "metadata": {},
   "outputs": [
    {
     "name": "stdout",
     "output_type": "stream",
     "text": [
      "938/938 [==============================] - 3s 3ms/step - loss: 0.1123\n"
     ]
    }
   ],
   "source": [
    "# Train model from dataset\n",
    "dataset = tf.data.Dataset.from_tensor_slices((X_train, y_train)).batch(64)\n",
    "history = model.fit(dataset, epochs=1)"
   ]
  },
  {
   "cell_type": "code",
   "execution_count": 40,
   "id": "b37731b1-b695-447f-bb02-abff5241e479",
   "metadata": {},
   "outputs": [
    {
     "name": "stdout",
     "output_type": "stream",
     "text": [
      "{'loss': [0.11231570690870285]}\n"
     ]
    }
   ],
   "source": [
    "print(history.history)"
   ]
  },
  {
   "cell_type": "code",
   "execution_count": 42,
   "id": "d17bad0e-6374-4965-afd5-0ac532dce1bc",
   "metadata": {},
   "outputs": [
    {
     "data": {
      "text/plain": [
       "[0]"
      ]
     },
     "execution_count": 42,
     "metadata": {},
     "output_type": "execute_result"
    }
   ],
   "source": [
    "history.epoch"
   ]
  },
  {
   "cell_type": "code",
   "execution_count": 44,
   "id": "cf09913a-3f65-4166-b7b1-4517128bcc34",
   "metadata": {},
   "outputs": [
    {
     "data": {
      "text/plain": [
       "<keras.engine.functional.Functional at 0x7f834011b3a0>"
      ]
     },
     "execution_count": 44,
     "metadata": {},
     "output_type": "execute_result"
    }
   ],
   "source": [
    "history.model"
   ]
  },
  {
   "cell_type": "code",
   "execution_count": 46,
   "id": "fc3acab5-555d-474d-a0be-8d32b5eefda3",
   "metadata": {},
   "outputs": [
    {
     "data": {
      "text/plain": [
       "{'verbose': 1, 'epochs': 1, 'steps': 938}"
      ]
     },
     "execution_count": 46,
     "metadata": {},
     "output_type": "execute_result"
    }
   ],
   "source": [
    "history.params"
   ]
  },
  {
   "cell_type": "code",
   "execution_count": 51,
   "id": "984a2e44-74ce-471f-94e4-967b401cea1c",
   "metadata": {},
   "outputs": [],
   "source": [
    "history.validation_data"
   ]
  },
  {
   "cell_type": "markdown",
   "id": "2624b0bc-5513-42dc-8295-9f987ad71cd1",
   "metadata": {},
   "source": [
    "# Perfomance metrix"
   ]
  },
  {
   "cell_type": "code",
   "execution_count": 52,
   "id": "42234106-5584-46a5-a3d5-daafeec64221",
   "metadata": {},
   "outputs": [],
   "source": [
    "model.compile(\n",
    "    optimizer='adam',\n",
    "    loss='sparse_categorical_crossentropy',\n",
    "    metrics=[keras.metrics.SparseCategoricalAccuracy(name='acc')]\n",
    ")"
   ]
  },
  {
   "cell_type": "code",
   "execution_count": 55,
   "id": "d680c774-aa81-4cd8-8790-ba6e21695fa5",
   "metadata": {},
   "outputs": [
    {
     "name": "stdout",
     "output_type": "stream",
     "text": [
      "938/938 [==============================] - 3s 3ms/step - loss: 0.0530 - acc: 0.9840\n"
     ]
    }
   ],
   "source": [
    "history = model.fit(dataset, epochs=1)"
   ]
  },
  {
   "cell_type": "markdown",
   "id": "8911d6d9-36f4-4681-b3bb-cb871a29a6e3",
   "metadata": {},
   "source": [
    "# Pass validation data "
   ]
  },
  {
   "cell_type": "code",
   "execution_count": 58,
   "id": "233ea430-d8a3-45d7-a929-067cbf5a8336",
   "metadata": {},
   "outputs": [
    {
     "name": "stdout",
     "output_type": "stream",
     "text": [
      "938/938 [==============================] - 5s 5ms/step - loss: 0.0389 - acc: 0.9883 - val_loss: 0.1049 - val_acc: 0.9709\n"
     ]
    }
   ],
   "source": [
    "val_dataset = tf.data.Dataset.from_tensor_slices((X_test, y_test)).batch(64)\n",
    "history = model.fit(dataset, epochs=1, validation_data=val_dataset)\n"
   ]
  },
  {
   "cell_type": "code",
   "execution_count": 60,
   "id": "fdd6e3b5-4714-470c-9d0b-1d99ac7279de",
   "metadata": {},
   "outputs": [
    {
     "name": "stdout",
     "output_type": "stream",
     "text": [
      "None\n"
     ]
    }
   ],
   "source": [
    "print(history.validation_data)"
   ]
  },
  {
   "cell_type": "markdown",
   "id": "45882189-122f-4330-bfee-f78625309e37",
   "metadata": {},
   "source": [
    "# Callback to save checkpoints \n",
    "### preventing from machine crashing during training session"
   ]
  },
  {
   "cell_type": "code",
   "execution_count": 61,
   "id": "9e0eb28d-202e-4b87-a79f-948751dff718",
   "metadata": {},
   "outputs": [],
   "source": [
    "callbacks = [\n",
    "    keras.callbacks.ModelCheckpoint(\n",
    "    filepath='./model_{epoch}',\n",
    "    save_freq='epoch') # save every epoch \n",
    "]\n"
   ]
  },
  {
   "cell_type": "code",
   "execution_count": 62,
   "id": "cc411ec1-039f-4569-b4c8-59f12bc485b9",
   "metadata": {},
   "outputs": [
    {
     "name": "stdout",
     "output_type": "stream",
     "text": [
      "Epoch 1/3\n",
      "938/938 [==============================] - ETA: 0s - loss: 0.0293 - acc: 0.9905"
     ]
    },
    {
     "name": "stderr",
     "output_type": "stream",
     "text": [
      "2022-05-09 23:14:40.397403: W tensorflow/python/util/util.cc:368] Sets are not currently considered sequences, but this may change in the future, so consider avoiding using them.\n"
     ]
    },
    {
     "name": "stdout",
     "output_type": "stream",
     "text": [
      "INFO:tensorflow:Assets written to: model_1/assets\n",
      "938/938 [==============================] - 8s 8ms/step - loss: 0.0293 - acc: 0.9905\n",
      "Epoch 2/3\n",
      "926/938 [============================>.] - ETA: 0s - loss: 0.0231 - acc: 0.9927INFO:tensorflow:Assets written to: model_2/assets\n",
      "938/938 [==============================] - 5s 6ms/step - loss: 0.0234 - acc: 0.9926\n",
      "Epoch 3/3\n",
      "929/938 [============================>.] - ETA: 0s - loss: 0.0208 - acc: 0.9929INFO:tensorflow:Assets written to: model_3/assets\n",
      "938/938 [==============================] - 11s 11ms/step - loss: 0.0209 - acc: 0.9929\n"
     ]
    },
    {
     "data": {
      "text/plain": [
       "<keras.callbacks.History at 0x7f831e987fa0>"
      ]
     },
     "execution_count": 62,
     "metadata": {},
     "output_type": "execute_result"
    }
   ],
   "source": [
    "model.fit(dataset, epochs=3, callbacks=callbacks)"
   ]
  },
  {
   "cell_type": "code",
   "execution_count": null,
   "id": "61685076-cbb7-4788-8b28-3c317a460ab6",
   "metadata": {},
   "outputs": [],
   "source": []
  }
 ],
 "metadata": {
  "kernelspec": {
   "display_name": "Python 3 (ipykernel)",
   "language": "python",
   "name": "python3"
  },
  "language_info": {
   "codemirror_mode": {
    "name": "ipython",
    "version": 3
   },
   "file_extension": ".py",
   "mimetype": "text/x-python",
   "name": "python",
   "nbconvert_exporter": "python",
   "pygments_lexer": "ipython3",
   "version": "3.9.7"
  }
 },
 "nbformat": 4,
 "nbformat_minor": 5
}
